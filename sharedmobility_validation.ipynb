{
  "cells": [
    {
      "cell_type": "markdown",
      "metadata": {
        "id": "view-in-github",
        "colab_type": "text"
      },
      "source": [
        "<a href=\"https://colab.research.google.com/github/nrohrbach/sharedmobility_monitoring/blob/main/sharedmobility_validation.ipynb\" target=\"_parent\"><img src=\"https://colab.research.google.com/assets/colab-badge.svg\" alt=\"Open In Colab\"/></a>"
      ]
    },
    {
      "cell_type": "markdown",
      "source": [
        "# Sharedmobility.ch - Validation of GBFS-Feeds"
      ],
      "metadata": {
        "id": "ZbZ6p926Kj5H"
      },
      "id": "ZbZ6p926Kj5H"
    },
    {
      "cell_type": "code",
      "source": [
        "#pip install datetime"
      ],
      "metadata": {
        "id": "0bAndeTYKm8b"
      },
      "id": "0bAndeTYKm8b",
      "execution_count": 2,
      "outputs": []
    },
    {
      "cell_type": "code",
      "source": [
        "import requests\n",
        "import pandas as pd\n",
        "from datetime import datetime, timezone\n",
        "import json\n",
        "import pytz"
      ],
      "metadata": {
        "id": "4RsIcIFTKpmO"
      },
      "id": "4RsIcIFTKpmO",
      "execution_count": 29,
      "outputs": []
    },
    {
      "cell_type": "code",
      "source": [
        "# GBFS Feeds abfragen\n",
        "url = 'https://gbfs.prod.sharedmobility.ch/v2/gbfs'\n",
        "feeds = requests.get(url).json()"
      ],
      "metadata": {
        "id": "BWDoreN6KrCV"
      },
      "id": "BWDoreN6KrCV",
      "execution_count": 4,
      "outputs": []
    },
    {
      "cell_type": "code",
      "source": [
        "# Alle GBFS Feeds als Dataframe laden\n",
        "id = [s['id'] for s in feeds['systems']]\n",
        "url = [s['url'] for s in feeds['systems']]\n",
        "gbfsfeeds = pd.DataFrame(list(zip(id, url)),columns =['provider', 'gbfsurl'])\n",
        "providers = list(gbfsfeeds['provider'])"
      ],
      "metadata": {
        "id": "t3zla7tkKs9G"
      },
      "id": "t3zla7tkKs9G",
      "execution_count": 5,
      "outputs": []
    },
    {
      "cell_type": "code",
      "source": [
        "# Nur einen Provider temporär einstellen!\n",
        "providers = ['bolt_zurich','velospot','carvelo2go','bird-biel']\n",
        "providers"
      ],
      "metadata": {
        "id": "czVo85yrxDPD",
        "outputId": "1e5ee906-7b18-4b02-a886-acc51fe10054",
        "colab": {
          "base_uri": "https://localhost:8080/"
        }
      },
      "id": "czVo85yrxDPD",
      "execution_count": 6,
      "outputs": [
        {
          "output_type": "execute_result",
          "data": {
            "text/plain": [
              "['bolt_zurich', 'velospot', 'carvelo2go', 'bird-biel']"
            ]
          },
          "metadata": {},
          "execution_count": 6
        }
      ]
    },
    {
      "cell_type": "code",
      "source": [
        "# Validieren!\n",
        "JsonResponse = []\n",
        "providerList = []\n",
        "#HasErrors = []\n",
        "#NumberOfErrors = []\n",
        "\n",
        "for provider in providers:\n",
        "    try:\n",
        "      headers = {\n",
        "          'accept': '*/*',\n",
        "          'Content-Type': 'application/json',\n",
        "          'User-Agent': 'geoinformation@bfe.admin.ch',\n",
        "      }\n",
        "\n",
        "      json_data = {\n",
        "          'url': 'https://gbfs.prod.sharedmobility.ch/v2/gbfs/'+ provider +'/gbfs',\n",
        "          'options': {\n",
        "              'freefloating': False,\n",
        "              'docked': False,\n",
        "              'version': None,\n",
        "              'auth': {\n",
        "                  'type': None,\n",
        "                  'basicAuth': {\n",
        "                      'user': None,\n",
        "                      'password': None,\n",
        "                  },\n",
        "                  'bearerToken': {\n",
        "                      'token': None,\n",
        "                  },\n",
        "                  'oauthClientCredentialsGrant': {\n",
        "                      'user': None,\n",
        "                      'password': None,\n",
        "                      'tokenUrl': None,\n",
        "                  },\n",
        "              },\n",
        "          },\n",
        "      }\n",
        "      response = requests.post('https://gbfs-validator.netlify.app/.netlify/functions/validator', headers=headers, json=json_data).json()\n",
        "\n",
        "      #providerList.append(provider)\n",
        "      JsonResponse.append(response)\n",
        "      #HasErrors.append(response['summary']['hasErrors'])\n",
        "      #NumberOfErrors.append(response['summary']['errorsCount'])\n",
        "\n",
        "    except:\n",
        "      #providerList2.append(provider)\n",
        "      JsonResponse.append(response)\n",
        "      #HasErrors.append('nan')\n",
        "      #NumberOfErrors.append('nan')"
      ],
      "metadata": {
        "id": "uby9HfGkKyP9"
      },
      "id": "uby9HfGkKyP9",
      "execution_count": 7,
      "outputs": []
    },
    {
      "cell_type": "code",
      "source": [
        "ValidationResults = pd.json_normalize(JsonResponse)"
      ],
      "metadata": {
        "id": "_sdN_zj8jZgq"
      },
      "id": "_sdN_zj8jZgq",
      "execution_count": 19,
      "outputs": []
    },
    {
      "cell_type": "code",
      "source": [
        "ValidationResults['provider'] = providers"
      ],
      "metadata": {
        "id": "uxdvvfbSqv0o"
      },
      "id": "uxdvvfbSqv0o",
      "execution_count": 20,
      "outputs": []
    },
    {
      "cell_type": "code",
      "source": [
        "ValidationResults"
      ],
      "metadata": {
        "colab": {
          "base_uri": "https://localhost:8080/",
          "height": 175
        },
        "id": "Lo3cgNcRpYMp",
        "outputId": "a8706e71-7e06-40ff-8c3a-af96314f49d0"
      },
      "id": "Lo3cgNcRpYMp",
      "execution_count": 21,
      "outputs": [
        {
          "output_type": "execute_result",
          "data": {
            "text/plain": [
              "                                               files summary.validatorVersion  \\\n",
              "0  [{'schema': {'$schema': 'http://json-schema.or...                    1.0.0   \n",
              "1  [{'schema': {'$schema': 'http://json-schema.or...                    1.0.0   \n",
              "2  [{'schema': {'$schema': 'http://json-schema.or...                    1.0.0   \n",
              "3  [{'schema': {'$schema': 'http://json-schema.or...                    1.0.0   \n",
              "\n",
              "  summary.version.detected summary.version.validated  summary.hasErrors  \\\n",
              "0                      2.3                       2.3              False   \n",
              "1                      2.3                       2.3               True   \n",
              "2                      2.3                       2.3              False   \n",
              "3                      2.3                       2.3              False   \n",
              "\n",
              "   summary.errorsCount     provider  \n",
              "0                    0  bolt_zurich  \n",
              "1                   13     velospot  \n",
              "2                    0   carvelo2go  \n",
              "3                    0    bird-biel  "
            ],
            "text/html": [
              "\n",
              "  <div id=\"df-41f65160-51ce-4459-bebd-f0c807fc5bd9\" class=\"colab-df-container\">\n",
              "    <div>\n",
              "<style scoped>\n",
              "    .dataframe tbody tr th:only-of-type {\n",
              "        vertical-align: middle;\n",
              "    }\n",
              "\n",
              "    .dataframe tbody tr th {\n",
              "        vertical-align: top;\n",
              "    }\n",
              "\n",
              "    .dataframe thead th {\n",
              "        text-align: right;\n",
              "    }\n",
              "</style>\n",
              "<table border=\"1\" class=\"dataframe\">\n",
              "  <thead>\n",
              "    <tr style=\"text-align: right;\">\n",
              "      <th></th>\n",
              "      <th>files</th>\n",
              "      <th>summary.validatorVersion</th>\n",
              "      <th>summary.version.detected</th>\n",
              "      <th>summary.version.validated</th>\n",
              "      <th>summary.hasErrors</th>\n",
              "      <th>summary.errorsCount</th>\n",
              "      <th>provider</th>\n",
              "    </tr>\n",
              "  </thead>\n",
              "  <tbody>\n",
              "    <tr>\n",
              "      <th>0</th>\n",
              "      <td>[{'schema': {'$schema': 'http://json-schema.or...</td>\n",
              "      <td>1.0.0</td>\n",
              "      <td>2.3</td>\n",
              "      <td>2.3</td>\n",
              "      <td>False</td>\n",
              "      <td>0</td>\n",
              "      <td>bolt_zurich</td>\n",
              "    </tr>\n",
              "    <tr>\n",
              "      <th>1</th>\n",
              "      <td>[{'schema': {'$schema': 'http://json-schema.or...</td>\n",
              "      <td>1.0.0</td>\n",
              "      <td>2.3</td>\n",
              "      <td>2.3</td>\n",
              "      <td>True</td>\n",
              "      <td>13</td>\n",
              "      <td>velospot</td>\n",
              "    </tr>\n",
              "    <tr>\n",
              "      <th>2</th>\n",
              "      <td>[{'schema': {'$schema': 'http://json-schema.or...</td>\n",
              "      <td>1.0.0</td>\n",
              "      <td>2.3</td>\n",
              "      <td>2.3</td>\n",
              "      <td>False</td>\n",
              "      <td>0</td>\n",
              "      <td>carvelo2go</td>\n",
              "    </tr>\n",
              "    <tr>\n",
              "      <th>3</th>\n",
              "      <td>[{'schema': {'$schema': 'http://json-schema.or...</td>\n",
              "      <td>1.0.0</td>\n",
              "      <td>2.3</td>\n",
              "      <td>2.3</td>\n",
              "      <td>False</td>\n",
              "      <td>0</td>\n",
              "      <td>bird-biel</td>\n",
              "    </tr>\n",
              "  </tbody>\n",
              "</table>\n",
              "</div>\n",
              "    <div class=\"colab-df-buttons\">\n",
              "\n",
              "  <div class=\"colab-df-container\">\n",
              "    <button class=\"colab-df-convert\" onclick=\"convertToInteractive('df-41f65160-51ce-4459-bebd-f0c807fc5bd9')\"\n",
              "            title=\"Convert this dataframe to an interactive table.\"\n",
              "            style=\"display:none;\">\n",
              "\n",
              "  <svg xmlns=\"http://www.w3.org/2000/svg\" height=\"24px\" viewBox=\"0 -960 960 960\">\n",
              "    <path d=\"M120-120v-720h720v720H120Zm60-500h600v-160H180v160Zm220 220h160v-160H400v160Zm0 220h160v-160H400v160ZM180-400h160v-160H180v160Zm440 0h160v-160H620v160ZM180-180h160v-160H180v160Zm440 0h160v-160H620v160Z\"/>\n",
              "  </svg>\n",
              "    </button>\n",
              "\n",
              "  <style>\n",
              "    .colab-df-container {\n",
              "      display:flex;\n",
              "      gap: 12px;\n",
              "    }\n",
              "\n",
              "    .colab-df-convert {\n",
              "      background-color: #E8F0FE;\n",
              "      border: none;\n",
              "      border-radius: 50%;\n",
              "      cursor: pointer;\n",
              "      display: none;\n",
              "      fill: #1967D2;\n",
              "      height: 32px;\n",
              "      padding: 0 0 0 0;\n",
              "      width: 32px;\n",
              "    }\n",
              "\n",
              "    .colab-df-convert:hover {\n",
              "      background-color: #E2EBFA;\n",
              "      box-shadow: 0px 1px 2px rgba(60, 64, 67, 0.3), 0px 1px 3px 1px rgba(60, 64, 67, 0.15);\n",
              "      fill: #174EA6;\n",
              "    }\n",
              "\n",
              "    .colab-df-buttons div {\n",
              "      margin-bottom: 4px;\n",
              "    }\n",
              "\n",
              "    [theme=dark] .colab-df-convert {\n",
              "      background-color: #3B4455;\n",
              "      fill: #D2E3FC;\n",
              "    }\n",
              "\n",
              "    [theme=dark] .colab-df-convert:hover {\n",
              "      background-color: #434B5C;\n",
              "      box-shadow: 0px 1px 3px 1px rgba(0, 0, 0, 0.15);\n",
              "      filter: drop-shadow(0px 1px 2px rgba(0, 0, 0, 0.3));\n",
              "      fill: #FFFFFF;\n",
              "    }\n",
              "  </style>\n",
              "\n",
              "    <script>\n",
              "      const buttonEl =\n",
              "        document.querySelector('#df-41f65160-51ce-4459-bebd-f0c807fc5bd9 button.colab-df-convert');\n",
              "      buttonEl.style.display =\n",
              "        google.colab.kernel.accessAllowed ? 'block' : 'none';\n",
              "\n",
              "      async function convertToInteractive(key) {\n",
              "        const element = document.querySelector('#df-41f65160-51ce-4459-bebd-f0c807fc5bd9');\n",
              "        const dataTable =\n",
              "          await google.colab.kernel.invokeFunction('convertToInteractive',\n",
              "                                                    [key], {});\n",
              "        if (!dataTable) return;\n",
              "\n",
              "        const docLinkHtml = 'Like what you see? Visit the ' +\n",
              "          '<a target=\"_blank\" href=https://colab.research.google.com/notebooks/data_table.ipynb>data table notebook</a>'\n",
              "          + ' to learn more about interactive tables.';\n",
              "        element.innerHTML = '';\n",
              "        dataTable['output_type'] = 'display_data';\n",
              "        await google.colab.output.renderOutput(dataTable, element);\n",
              "        const docLink = document.createElement('div');\n",
              "        docLink.innerHTML = docLinkHtml;\n",
              "        element.appendChild(docLink);\n",
              "      }\n",
              "    </script>\n",
              "  </div>\n",
              "\n",
              "    </div>\n",
              "  </div>\n"
            ]
          },
          "metadata": {},
          "execution_count": 21
        }
      ]
    },
    {
      "cell_type": "code",
      "source": [
        "ValidationResults['Validator'] = 'https://gbfs-validator.netlify.app/validator?url=https://gbfs.prod.sharedmobility.ch/v2/gbfs/'+ ValidationResults['provider']+'/gbfs'"
      ],
      "metadata": {
        "id": "wNvRDkv4rK8X"
      },
      "id": "wNvRDkv4rK8X",
      "execution_count": 22,
      "outputs": []
    },
    {
      "cell_type": "code",
      "source": [
        "ValidationDatum = datetime.today()\n",
        "ValidationDatum = ValidationDatum.astimezone(pytz.timezone('Europe/Berlin')).strftime(\"%Y-%m-%d %H:%M\" )\n",
        "\n",
        "ValidationDatum\n"
      ],
      "metadata": {
        "id": "e22JxmnLvwYE",
        "outputId": "33044ab5-f25b-44b7-a9ba-d7d5d5043b0c",
        "colab": {
          "base_uri": "https://localhost:8080/",
          "height": 35
        }
      },
      "id": "e22JxmnLvwYE",
      "execution_count": 32,
      "outputs": [
        {
          "output_type": "execute_result",
          "data": {
            "text/plain": [
              "'2023-08-28 08:19'"
            ],
            "application/vnd.google.colaboratory.intrinsic+json": {
              "type": "string"
            }
          },
          "metadata": {},
          "execution_count": 32
        }
      ]
    },
    {
      "cell_type": "code",
      "source": [
        "ValidationResults = ValidationResults.drop(columns=['files','summary.validatorVersion','summary.version.detected'])"
      ],
      "metadata": {
        "id": "WYsFR3F3q_II"
      },
      "id": "WYsFR3F3q_II",
      "execution_count": 11,
      "outputs": []
    },
    {
      "cell_type": "code",
      "source": [
        "ValidationResults"
      ],
      "metadata": {
        "id": "TNaepdOdcQBP",
        "colab": {
          "base_uri": "https://localhost:8080/",
          "height": 175
        },
        "outputId": "c4dbc7dd-85ad-4f2a-9fa5-8b988efd320d"
      },
      "id": "TNaepdOdcQBP",
      "execution_count": 12,
      "outputs": [
        {
          "output_type": "execute_result",
          "data": {
            "text/plain": [
              "  summary.version.validated  summary.hasErrors  summary.errorsCount  \\\n",
              "0                       2.3              False                    0   \n",
              "1                       2.3               True                   13   \n",
              "2                       2.3              False                    0   \n",
              "3                       2.3              False                    0   \n",
              "\n",
              "      provider  \n",
              "0  bolt_zurich  \n",
              "1     velospot  \n",
              "2   carvelo2go  \n",
              "3    bird-biel  "
            ],
            "text/html": [
              "\n",
              "  <div id=\"df-a52b1213-3e48-4b17-8c1d-7941f406c8fb\" class=\"colab-df-container\">\n",
              "    <div>\n",
              "<style scoped>\n",
              "    .dataframe tbody tr th:only-of-type {\n",
              "        vertical-align: middle;\n",
              "    }\n",
              "\n",
              "    .dataframe tbody tr th {\n",
              "        vertical-align: top;\n",
              "    }\n",
              "\n",
              "    .dataframe thead th {\n",
              "        text-align: right;\n",
              "    }\n",
              "</style>\n",
              "<table border=\"1\" class=\"dataframe\">\n",
              "  <thead>\n",
              "    <tr style=\"text-align: right;\">\n",
              "      <th></th>\n",
              "      <th>summary.version.validated</th>\n",
              "      <th>summary.hasErrors</th>\n",
              "      <th>summary.errorsCount</th>\n",
              "      <th>provider</th>\n",
              "    </tr>\n",
              "  </thead>\n",
              "  <tbody>\n",
              "    <tr>\n",
              "      <th>0</th>\n",
              "      <td>2.3</td>\n",
              "      <td>False</td>\n",
              "      <td>0</td>\n",
              "      <td>bolt_zurich</td>\n",
              "    </tr>\n",
              "    <tr>\n",
              "      <th>1</th>\n",
              "      <td>2.3</td>\n",
              "      <td>True</td>\n",
              "      <td>13</td>\n",
              "      <td>velospot</td>\n",
              "    </tr>\n",
              "    <tr>\n",
              "      <th>2</th>\n",
              "      <td>2.3</td>\n",
              "      <td>False</td>\n",
              "      <td>0</td>\n",
              "      <td>carvelo2go</td>\n",
              "    </tr>\n",
              "    <tr>\n",
              "      <th>3</th>\n",
              "      <td>2.3</td>\n",
              "      <td>False</td>\n",
              "      <td>0</td>\n",
              "      <td>bird-biel</td>\n",
              "    </tr>\n",
              "  </tbody>\n",
              "</table>\n",
              "</div>\n",
              "    <div class=\"colab-df-buttons\">\n",
              "\n",
              "  <div class=\"colab-df-container\">\n",
              "    <button class=\"colab-df-convert\" onclick=\"convertToInteractive('df-a52b1213-3e48-4b17-8c1d-7941f406c8fb')\"\n",
              "            title=\"Convert this dataframe to an interactive table.\"\n",
              "            style=\"display:none;\">\n",
              "\n",
              "  <svg xmlns=\"http://www.w3.org/2000/svg\" height=\"24px\" viewBox=\"0 -960 960 960\">\n",
              "    <path d=\"M120-120v-720h720v720H120Zm60-500h600v-160H180v160Zm220 220h160v-160H400v160Zm0 220h160v-160H400v160ZM180-400h160v-160H180v160Zm440 0h160v-160H620v160ZM180-180h160v-160H180v160Zm440 0h160v-160H620v160Z\"/>\n",
              "  </svg>\n",
              "    </button>\n",
              "\n",
              "  <style>\n",
              "    .colab-df-container {\n",
              "      display:flex;\n",
              "      gap: 12px;\n",
              "    }\n",
              "\n",
              "    .colab-df-convert {\n",
              "      background-color: #E8F0FE;\n",
              "      border: none;\n",
              "      border-radius: 50%;\n",
              "      cursor: pointer;\n",
              "      display: none;\n",
              "      fill: #1967D2;\n",
              "      height: 32px;\n",
              "      padding: 0 0 0 0;\n",
              "      width: 32px;\n",
              "    }\n",
              "\n",
              "    .colab-df-convert:hover {\n",
              "      background-color: #E2EBFA;\n",
              "      box-shadow: 0px 1px 2px rgba(60, 64, 67, 0.3), 0px 1px 3px 1px rgba(60, 64, 67, 0.15);\n",
              "      fill: #174EA6;\n",
              "    }\n",
              "\n",
              "    .colab-df-buttons div {\n",
              "      margin-bottom: 4px;\n",
              "    }\n",
              "\n",
              "    [theme=dark] .colab-df-convert {\n",
              "      background-color: #3B4455;\n",
              "      fill: #D2E3FC;\n",
              "    }\n",
              "\n",
              "    [theme=dark] .colab-df-convert:hover {\n",
              "      background-color: #434B5C;\n",
              "      box-shadow: 0px 1px 3px 1px rgba(0, 0, 0, 0.15);\n",
              "      filter: drop-shadow(0px 1px 2px rgba(0, 0, 0, 0.3));\n",
              "      fill: #FFFFFF;\n",
              "    }\n",
              "  </style>\n",
              "\n",
              "    <script>\n",
              "      const buttonEl =\n",
              "        document.querySelector('#df-a52b1213-3e48-4b17-8c1d-7941f406c8fb button.colab-df-convert');\n",
              "      buttonEl.style.display =\n",
              "        google.colab.kernel.accessAllowed ? 'block' : 'none';\n",
              "\n",
              "      async function convertToInteractive(key) {\n",
              "        const element = document.querySelector('#df-a52b1213-3e48-4b17-8c1d-7941f406c8fb');\n",
              "        const dataTable =\n",
              "          await google.colab.kernel.invokeFunction('convertToInteractive',\n",
              "                                                    [key], {});\n",
              "        if (!dataTable) return;\n",
              "\n",
              "        const docLinkHtml = 'Like what you see? Visit the ' +\n",
              "          '<a target=\"_blank\" href=https://colab.research.google.com/notebooks/data_table.ipynb>data table notebook</a>'\n",
              "          + ' to learn more about interactive tables.';\n",
              "        element.innerHTML = '';\n",
              "        dataTable['output_type'] = 'display_data';\n",
              "        await google.colab.output.renderOutput(dataTable, element);\n",
              "        const docLink = document.createElement('div');\n",
              "        docLink.innerHTML = docLinkHtml;\n",
              "        element.appendChild(docLink);\n",
              "      }\n",
              "    </script>\n",
              "  </div>\n",
              "\n",
              "    </div>\n",
              "  </div>\n"
            ]
          },
          "metadata": {},
          "execution_count": 12
        }
      ]
    },
    {
      "cell_type": "code",
      "source": [
        "ValidationResults.to_csv(\"GBFS_validated.csv\",header=True,index=False)"
      ],
      "metadata": {
        "id": "oW3dZ5xusSHE"
      },
      "id": "oW3dZ5xusSHE",
      "execution_count": null,
      "outputs": []
    },
    {
      "cell_type": "markdown",
      "source": [
        "# Create Statusbadges für Übersicht auf Github"
      ],
      "metadata": {
        "id": "-qAnSfp0zD2K"
      },
      "id": "-qAnSfp0zD2K"
    },
    {
      "cell_type": "code",
      "source": [
        "# Funktion die den Farbcode zuweist.\n",
        "def CreateBadgeColour(row):\n",
        "  if row['summary.hasErrors']:\n",
        "    return \"red\"\n",
        "  else:\n",
        "    return \"green\""
      ],
      "metadata": {
        "id": "hQDsCDgyvvbP"
      },
      "id": "hQDsCDgyvvbP",
      "execution_count": null,
      "outputs": []
    },
    {
      "cell_type": "code",
      "source": [
        "ValidationResults['Colour']= ValidationResults.apply(lambda row: CreateBadgeColour(row), axis=1)"
      ],
      "metadata": {
        "id": "0dKmGHAdtwcP"
      },
      "id": "0dKmGHAdtwcP",
      "execution_count": null,
      "outputs": []
    },
    {
      "cell_type": "code",
      "source": [
        "ValidationResults['Badge']= '- [![Dokumentation](https://badgen.net/badge/' + ValidationResults['provider'] + '/' + ValidationResults['summary.errorsCount'].astype(str) + '%20errors/' + ValidationResults['Colour'] + '?icon=github)](' + ValidationResults['Validator'] + ')'"
      ],
      "metadata": {
        "id": "atzq-ytvqYWf"
      },
      "id": "atzq-ytvqYWf",
      "execution_count": null,
      "outputs": []
    },
    {
      "cell_type": "code",
      "source": [
        "ValidationResults = ValidationResults.rename(columns={'Badge': '# Validation of all GBFS-Feeds'})"
      ],
      "metadata": {
        "id": "uhsj6abk5yzr"
      },
      "id": "uhsj6abk5yzr",
      "execution_count": null,
      "outputs": []
    },
    {
      "cell_type": "code",
      "source": [
        "ValidationResults.to_csv('Validation.md', columns= ['# Validation of all GBFS-Feeds'], header=True, index=False)"
      ],
      "metadata": {
        "id": "lukuCo640If_"
      },
      "id": "lukuCo640If_",
      "execution_count": null,
      "outputs": []
    },
    {
      "cell_type": "code",
      "source": [],
      "metadata": {
        "id": "-NmKeNn23hXs"
      },
      "id": "-NmKeNn23hXs",
      "execution_count": null,
      "outputs": []
    },
    {
      "cell_type": "code",
      "source": [],
      "metadata": {
        "id": "6q5njyR13iWt"
      },
      "id": "6q5njyR13iWt",
      "execution_count": null,
      "outputs": []
    }
  ],
  "metadata": {
    "kernelspec": {
      "display_name": "Python 3",
      "language": "python",
      "name": "python3"
    },
    "language_info": {
      "codemirror_mode": {
        "name": "ipython",
        "version": 3
      },
      "file_extension": ".py",
      "mimetype": "text/x-python",
      "name": "python",
      "nbconvert_exporter": "python",
      "pygments_lexer": "ipython3",
      "version": "3.8.7"
    },
    "colab": {
      "provenance": [],
      "include_colab_link": true
    }
  },
  "nbformat": 4,
  "nbformat_minor": 5
}