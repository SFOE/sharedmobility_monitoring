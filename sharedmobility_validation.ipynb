{
  "cells": [
    {
      "cell_type": "markdown",
      "metadata": {
        "id": "view-in-github",
        "colab_type": "text"
      },
      "source": [
        "<a href=\"https://colab.research.google.com/github/nrohrbach/sharedmobility_monitoring/blob/main/sharedmobility_validation.ipynb\" target=\"_parent\"><img src=\"https://colab.research.google.com/assets/colab-badge.svg\" alt=\"Open In Colab\"/></a>"
      ]
    },
    {
      "cell_type": "markdown",
      "source": [
        "# Sharedmobility.ch - Validation of GBFS-Feeds"
      ],
      "metadata": {
        "id": "ZbZ6p926Kj5H"
      },
      "id": "ZbZ6p926Kj5H"
    },
    {
      "cell_type": "code",
      "source": [
        "#pip install datetime"
      ],
      "metadata": {
        "id": "0bAndeTYKm8b",
        "outputId": "bd6e723e-bfad-4733-a1ab-41e7729c56ee",
        "colab": {
          "base_uri": "https://localhost:8080/"
        }
      },
      "id": "0bAndeTYKm8b",
      "execution_count": 1,
      "outputs": [
        {
          "output_type": "stream",
          "name": "stdout",
          "text": [
            "Collecting datetime\n",
            "  Downloading DateTime-5.3-py3-none-any.whl (52 kB)\n",
            "\u001b[2K     \u001b[90m━━━━━━━━━━━━━━━━━━━━━━━━━━━━━━━━━━━━━━━━\u001b[0m \u001b[32m52.2/52.2 kB\u001b[0m \u001b[31m2.2 MB/s\u001b[0m eta \u001b[36m0:00:00\u001b[0m\n",
            "\u001b[?25hCollecting zope.interface (from datetime)\n",
            "  Downloading zope.interface-6.1-cp310-cp310-manylinux_2_5_x86_64.manylinux1_x86_64.manylinux_2_17_x86_64.manylinux2014_x86_64.whl (247 kB)\n",
            "\u001b[2K     \u001b[90m━━━━━━━━━━━━━━━━━━━━━━━━━━━━━━━━━━━━━━━━\u001b[0m \u001b[32m247.1/247.1 kB\u001b[0m \u001b[31m8.9 MB/s\u001b[0m eta \u001b[36m0:00:00\u001b[0m\n",
            "\u001b[?25hRequirement already satisfied: pytz in /usr/local/lib/python3.10/dist-packages (from datetime) (2023.3.post1)\n",
            "Requirement already satisfied: setuptools in /usr/local/lib/python3.10/dist-packages (from zope.interface->datetime) (67.7.2)\n",
            "Installing collected packages: zope.interface, datetime\n",
            "Successfully installed datetime-5.3 zope.interface-6.1\n"
          ]
        }
      ]
    },
    {
      "cell_type": "code",
      "source": [
        "import requests\n",
        "import pandas as pd\n",
        "from datetime import datetime, timezone\n",
        "import json\n",
        "import pytz"
      ],
      "metadata": {
        "id": "4RsIcIFTKpmO"
      },
      "id": "4RsIcIFTKpmO",
      "execution_count": 2,
      "outputs": []
    },
    {
      "cell_type": "code",
      "source": [
        "# GBFS Feeds abfragen\n",
        "url = 'https://sharedmobility.ch/v2/gbfs'\n",
        "header = {\"Authorization\":\"geoinformation@bfe.admin.ch\"}\n",
        "feeds = requests.get(url, headers=header).json()"
      ],
      "metadata": {
        "id": "BWDoreN6KrCV"
      },
      "id": "BWDoreN6KrCV",
      "execution_count": 5,
      "outputs": []
    },
    {
      "cell_type": "code",
      "source": [
        "# Alle GBFS Feeds als Dataframe laden\n",
        "id = [s['id'] for s in feeds['systems']]\n",
        "url = [s['url'] for s in feeds['systems']]\n",
        "gbfsfeeds = pd.DataFrame(list(zip(id, url)),columns =['provider', 'gbfsurl'])\n",
        "providers = list(gbfsfeeds['provider'])"
      ],
      "metadata": {
        "id": "t3zla7tkKs9G"
      },
      "id": "t3zla7tkKs9G",
      "execution_count": 6,
      "outputs": []
    },
    {
      "cell_type": "code",
      "source": [
        "# Validieren!\n",
        "JsonResponse = []\n",
        "\n",
        "for provider in providers:\n",
        "    try:\n",
        "      headers = {\n",
        "          'accept': '*/*',\n",
        "          'Content-Type': 'application/json',\n",
        "          'User-Agent': 'geoinformation@bfe.admin.ch',\n",
        "      }\n",
        "\n",
        "      json_data = {\n",
        "          'url': 'https://sharedmobility.ch/v2/gbfs/'+ provider +'/gbfs',\n",
        "          'options': {\n",
        "              'freefloating': False,\n",
        "              'docked': False,\n",
        "              'version': None,\n",
        "              'auth': {\n",
        "                  'type': None,\n",
        "                  'basicAuth': {\n",
        "                      'user': None,\n",
        "                      'password': None,\n",
        "                  },\n",
        "                  'bearerToken': {\n",
        "                      'token': None,\n",
        "                  },\n",
        "                  'oauthClientCredentialsGrant': {\n",
        "                      'user': None,\n",
        "                      'password': None,\n",
        "                      'tokenUrl': None,\n",
        "                  },\n",
        "              },\n",
        "          },\n",
        "      }\n",
        "      response = requests.post('https://gbfs-validator.netlify.app/.netlify/functions/validator', headers=headers, json=json_data).json()\n",
        "\n",
        "      JsonResponse.append(response)\n",
        "\n",
        "    except:\n",
        "      JsonResponse.append(response)"
      ],
      "metadata": {
        "id": "uby9HfGkKyP9"
      },
      "id": "uby9HfGkKyP9",
      "execution_count": 7,
      "outputs": []
    },
    {
      "cell_type": "code",
      "source": [
        "#Dataframe mit Resultaten bearbeiten\n",
        "ValidationResults = pd.json_normalize(JsonResponse)\n",
        "ValidationResults['provider'] = providers\n",
        "ValidationResults['Validator'] = 'https://gbfs-validator.netlify.app/validator?url=https://gbfs.prod.sharedmobility.ch/v2/gbfs/'+ ValidationResults['provider']+'/gbfs'"
      ],
      "metadata": {
        "id": "_sdN_zj8jZgq"
      },
      "id": "_sdN_zj8jZgq",
      "execution_count": null,
      "outputs": []
    },
    {
      "cell_type": "code",
      "source": [
        "# Add Timestamp\n",
        "ValidationDatum = datetime.today()\n",
        "ValidationDate = ValidationDatum.astimezone(pytz.timezone('Europe/Berlin')).strftime(\"%Y-%m-%d\")\n",
        "ValidationZeit = ValidationDatum.astimezone(pytz.timezone('Europe/Berlin')).strftime(\"%Y-%m-%d %H:%M\")\n",
        "ValidationResults['Date'] = ValidationDate"
      ],
      "metadata": {
        "id": "e22JxmnLvwYE"
      },
      "id": "e22JxmnLvwYE",
      "execution_count": null,
      "outputs": []
    },
    {
      "cell_type": "code",
      "source": [
        "# Save as CSV\n",
        "ValidationResults = ValidationResults.drop(columns=['files','summary.validatorVersion','summary.version.detected'])\n",
        "ValidationResults.to_csv(\"data/GBFS_validated.csv\",header=False,index=False, mode='a')"
      ],
      "metadata": {
        "id": "WYsFR3F3q_II"
      },
      "id": "WYsFR3F3q_II",
      "execution_count": null,
      "outputs": []
    },
    {
      "cell_type": "markdown",
      "source": [
        "# Create Statusbadges für Übersicht auf Github"
      ],
      "metadata": {
        "id": "-qAnSfp0zD2K"
      },
      "id": "-qAnSfp0zD2K"
    },
    {
      "cell_type": "code",
      "source": [
        "# Funktion die den Farbcode zuweist.\n",
        "def CreateBadgeColour(row):\n",
        "  if row['summary.hasErrors']:\n",
        "    return \"red\"\n",
        "  else:\n",
        "    return \"green\""
      ],
      "metadata": {
        "id": "hQDsCDgyvvbP"
      },
      "id": "hQDsCDgyvvbP",
      "execution_count": null,
      "outputs": []
    },
    {
      "cell_type": "code",
      "source": [
        "# Badge erstellen\n",
        "ValidationResults['Colour']= ValidationResults.apply(lambda row: CreateBadgeColour(row), axis=1)\n",
        "ValidationResults['Badge']= '- [![Dokumentation](https://badgen.net/badge/' + ValidationResults['provider'] + '/' + ValidationResults['summary.errorsCount'].astype(str) + '%20errors/' + ValidationResults['Colour'] + '?icon=github)](' + ValidationResults['Validator'] + ')'\n",
        "ValidationResults = ValidationResults.drop(columns=['summary.version.validated','summary.hasErrors','summary.errorsCount','provider', 'Validator', 'Date','Colour'])"
      ],
      "metadata": {
        "id": "0dKmGHAdtwcP"
      },
      "id": "0dKmGHAdtwcP",
      "execution_count": null,
      "outputs": []
    },
    {
      "cell_type": "code",
      "source": [
        "# Add Timestamp to DataFrame\n",
        "Timestamp = 'Last Update: '+ ValidationZeit\n",
        "new_row = pd.DataFrame([' ',Timestamp], columns=['Badge'])\n",
        "ValidationResults = pd.concat([ValidationResults, new_row], ignore_index=True)"
      ],
      "metadata": {
        "id": "0iHo91b3ef89"
      },
      "id": "0iHo91b3ef89",
      "execution_count": null,
      "outputs": []
    },
    {
      "cell_type": "code",
      "source": [
        "# Save as MD-File\n",
        "ValidationResults = ValidationResults.rename(columns={'Badge': '# Validation of all GBFS-Feeds'})\n",
        "ValidationResults.to_csv('Validation.md', columns= ['# Validation of all GBFS-Feeds'], header=True, index=False)"
      ],
      "metadata": {
        "id": "uhsj6abk5yzr"
      },
      "id": "uhsj6abk5yzr",
      "execution_count": null,
      "outputs": []
    }
  ],
  "metadata": {
    "kernelspec": {
      "display_name": "Python 3",
      "language": "python",
      "name": "python3"
    },
    "language_info": {
      "codemirror_mode": {
        "name": "ipython",
        "version": 3
      },
      "file_extension": ".py",
      "mimetype": "text/x-python",
      "name": "python",
      "nbconvert_exporter": "python",
      "pygments_lexer": "ipython3",
      "version": "3.8.7"
    },
    "colab": {
      "provenance": [],
      "include_colab_link": true
    }
  },
  "nbformat": 4,
  "nbformat_minor": 5
}