{
  "cells": [
    {
      "cell_type": "markdown",
      "metadata": {
        "id": "view-in-github",
        "colab_type": "text"
      },
      "source": [
        "<a href=\"https://colab.research.google.com/github/nrohrbach/sharedmobility_monitoring/blob/main/sharedmobility_validation.ipynb\" target=\"_parent\"><img src=\"https://colab.research.google.com/assets/colab-badge.svg\" alt=\"Open In Colab\"/></a>"
      ]
    },
    {
      "cell_type": "markdown",
      "source": [
        "# Sharedmobility.ch - Validation of GBFS-Feeds"
      ],
      "metadata": {
        "id": "ZbZ6p926Kj5H"
      },
      "id": "ZbZ6p926Kj5H"
    },
    {
      "cell_type": "code",
      "source": [
        "pip install datetime"
      ],
      "metadata": {
        "id": "0bAndeTYKm8b",
        "outputId": "2744757d-53e0-44a7-b720-f8d75b5669c4",
        "colab": {
          "base_uri": "https://localhost:8080/"
        }
      },
      "id": "0bAndeTYKm8b",
      "execution_count": 1,
      "outputs": [
        {
          "output_type": "stream",
          "name": "stdout",
          "text": [
            "Collecting datetime\n",
            "  Downloading DateTime-5.2-py3-none-any.whl (52 kB)\n",
            "\u001b[2K     \u001b[90m━━━━━━━━━━━━━━━━━━━━━━━━━━━━━━━━━━━━━━━━\u001b[0m \u001b[32m52.2/52.2 kB\u001b[0m \u001b[31m1.8 MB/s\u001b[0m eta \u001b[36m0:00:00\u001b[0m\n",
            "\u001b[?25hCollecting zope.interface (from datetime)\n",
            "  Downloading zope.interface-6.0-cp310-cp310-manylinux_2_5_x86_64.manylinux1_x86_64.manylinux_2_17_x86_64.manylinux2014_x86_64.whl (246 kB)\n",
            "\u001b[2K     \u001b[90m━━━━━━━━━━━━━━━━━━━━━━━━━━━━━━━━━━━━━━\u001b[0m \u001b[32m247.0/247.0 kB\u001b[0m \u001b[31m11.6 MB/s\u001b[0m eta \u001b[36m0:00:00\u001b[0m\n",
            "\u001b[?25hRequirement already satisfied: pytz in /usr/local/lib/python3.10/dist-packages (from datetime) (2023.3)\n",
            "Requirement already satisfied: setuptools in /usr/local/lib/python3.10/dist-packages (from zope.interface->datetime) (67.7.2)\n",
            "Installing collected packages: zope.interface, datetime\n",
            "Successfully installed datetime-5.2 zope.interface-6.0\n"
          ]
        }
      ]
    },
    {
      "cell_type": "code",
      "source": [
        "import requests\n",
        "import pandas as pd\n",
        "from datetime import datetime\n",
        "import json"
      ],
      "metadata": {
        "id": "4RsIcIFTKpmO"
      },
      "id": "4RsIcIFTKpmO",
      "execution_count": 2,
      "outputs": []
    },
    {
      "cell_type": "code",
      "source": [
        "# GBFS Feeds abfragen\n",
        "url = 'https://gbfs.prod.sharedmobility.ch/v2/gbfs'\n",
        "feeds = requests.get(url).json()"
      ],
      "metadata": {
        "id": "BWDoreN6KrCV"
      },
      "id": "BWDoreN6KrCV",
      "execution_count": 3,
      "outputs": []
    },
    {
      "cell_type": "code",
      "source": [],
      "metadata": {
        "id": "afStZWEIw_Ri"
      },
      "id": "afStZWEIw_Ri",
      "execution_count": null,
      "outputs": []
    },
    {
      "cell_type": "code",
      "source": [
        "# Alle GBFS Feeds als Dataframe laden\n",
        "id = [s['id'] for s in feeds['systems']]\n",
        "url = [s['url'] for s in feeds['systems']]\n",
        "gbfsfeeds = pd.DataFrame(list(zip(id, url)),columns =['provider', 'gbfsurl'])\n",
        "providers = list(gbfsfeeds['provider'])"
      ],
      "metadata": {
        "id": "t3zla7tkKs9G"
      },
      "id": "t3zla7tkKs9G",
      "execution_count": 4,
      "outputs": []
    },
    {
      "cell_type": "code",
      "source": [
        "# Nur einen Provider temporär einstellen!\n",
        "providers = ['bolt_zurich','velospot','carvelo2go','bird-biel']\n",
        "providers"
      ],
      "metadata": {
        "id": "czVo85yrxDPD",
        "outputId": "b32637cf-591a-49ef-8fa9-ba5a9095fb0a",
        "colab": {
          "base_uri": "https://localhost:8080/"
        }
      },
      "id": "czVo85yrxDPD",
      "execution_count": 5,
      "outputs": [
        {
          "output_type": "execute_result",
          "data": {
            "text/plain": [
              "['bolt_zurich', 'velospot', 'carvelo2go', 'bird-biel']"
            ]
          },
          "metadata": {},
          "execution_count": 5
        }
      ]
    },
    {
      "cell_type": "code",
      "source": [
        "# Validieren!\n",
        "JsonResponse = []\n",
        "providerList2 = []\n",
        "HasErrors = []\n",
        "NumberOfErrors = []\n",
        "\n",
        "for provider in providers:\n",
        "    try:\n",
        "      headers = {\n",
        "          'accept': '*/*',\n",
        "          'Content-Type': 'application/json',\n",
        "          'User-Agent': 'geoinformation@bfe.admin.ch',\n",
        "      }\n",
        "\n",
        "      json_data = {\n",
        "          'url': 'https://gbfs.prod.sharedmobility.ch/v2/gbfs/'+ provider +'/gbfs',\n",
        "          'options': {\n",
        "              'freefloating': False,\n",
        "              'docked': False,\n",
        "              'version': None,\n",
        "              'auth': {\n",
        "                  'type': None,\n",
        "                  'basicAuth': {\n",
        "                      'user': None,\n",
        "                      'password': None,\n",
        "                  },\n",
        "                  'bearerToken': {\n",
        "                      'token': None,\n",
        "                  },\n",
        "                  'oauthClientCredentialsGrant': {\n",
        "                      'user': None,\n",
        "                      'password': None,\n",
        "                      'tokenUrl': None,\n",
        "                  },\n",
        "              },\n",
        "          },\n",
        "      }\n",
        "      response = requests.post('https://gbfs-validator.netlify.app/.netlify/functions/validator', headers=headers, json=json_data).json()\n",
        "\n",
        "      providerList2.append(provider)\n",
        "      JsonResponse.append(response)\n",
        "      HasErrors.append(response['summary']['hasErrors'])\n",
        "      NumberOfErrors.append(response['summary']['errorsCount'])\n",
        "\n",
        "    except:\n",
        "      providerList2.append(provider)\n",
        "      JsonResponse.append(response)\n",
        "      HasErrors.append('nan')\n",
        "      NumberOfErrors.append('nan')"
      ],
      "metadata": {
        "id": "uby9HfGkKyP9"
      },
      "id": "uby9HfGkKyP9",
      "execution_count": 6,
      "outputs": []
    },
    {
      "cell_type": "code",
      "source": [
        "ValidationResults = pd.json_normalize(JsonResponse)"
      ],
      "metadata": {
        "id": "_sdN_zj8jZgq"
      },
      "id": "_sdN_zj8jZgq",
      "execution_count": 7,
      "outputs": []
    },
    {
      "cell_type": "code",
      "source": [
        "ValidationResults['provider'] = providerList2"
      ],
      "metadata": {
        "id": "uxdvvfbSqv0o"
      },
      "id": "uxdvvfbSqv0o",
      "execution_count": 8,
      "outputs": []
    },
    {
      "cell_type": "code",
      "source": [
        "ValidationResults"
      ],
      "metadata": {
        "colab": {
          "base_uri": "https://localhost:8080/",
          "height": 175
        },
        "id": "Lo3cgNcRpYMp",
        "outputId": "0fc39d75-6f7b-42fe-818d-63f737afecb8"
      },
      "id": "Lo3cgNcRpYMp",
      "execution_count": 11,
      "outputs": [
        {
          "output_type": "execute_result",
          "data": {
            "text/plain": [
              "                                               files summary.validatorVersion  \\\n",
              "0  [{'schema': {'$schema': 'http://json-schema.or...                    1.0.0   \n",
              "1  [{'schema': {'$schema': 'http://json-schema.or...                    1.0.0   \n",
              "2  [{'schema': {'$schema': 'http://json-schema.or...                    1.0.0   \n",
              "3  [{'schema': {'$schema': 'http://json-schema.or...                    1.0.0   \n",
              "\n",
              "  summary.version.detected summary.version.validated  summary.hasErrors  \\\n",
              "0                      2.3                       2.3              False   \n",
              "1                      2.3                       2.3               True   \n",
              "2                      2.3                       2.3              False   \n",
              "3                      2.3                       2.3              False   \n",
              "\n",
              "   summary.errorsCount     provider  \\\n",
              "0                    0  bolt_zurich   \n",
              "1                   13     velospot   \n",
              "2                    0   carvelo2go   \n",
              "3                    0    bird-biel   \n",
              "\n",
              "                                           Validator  \n",
              "0  https://gbfs-validator.netlify.app/validator?u...  \n",
              "1  https://gbfs-validator.netlify.app/validator?u...  \n",
              "2  https://gbfs-validator.netlify.app/validator?u...  \n",
              "3  https://gbfs-validator.netlify.app/validator?u...  "
            ],
            "text/html": [
              "\n",
              "  <div id=\"df-33e2e8a5-f964-42a8-96da-23d0dba325e5\" class=\"colab-df-container\">\n",
              "    <div>\n",
              "<style scoped>\n",
              "    .dataframe tbody tr th:only-of-type {\n",
              "        vertical-align: middle;\n",
              "    }\n",
              "\n",
              "    .dataframe tbody tr th {\n",
              "        vertical-align: top;\n",
              "    }\n",
              "\n",
              "    .dataframe thead th {\n",
              "        text-align: right;\n",
              "    }\n",
              "</style>\n",
              "<table border=\"1\" class=\"dataframe\">\n",
              "  <thead>\n",
              "    <tr style=\"text-align: right;\">\n",
              "      <th></th>\n",
              "      <th>files</th>\n",
              "      <th>summary.validatorVersion</th>\n",
              "      <th>summary.version.detected</th>\n",
              "      <th>summary.version.validated</th>\n",
              "      <th>summary.hasErrors</th>\n",
              "      <th>summary.errorsCount</th>\n",
              "      <th>provider</th>\n",
              "      <th>Validator</th>\n",
              "    </tr>\n",
              "  </thead>\n",
              "  <tbody>\n",
              "    <tr>\n",
              "      <th>0</th>\n",
              "      <td>[{'schema': {'$schema': 'http://json-schema.or...</td>\n",
              "      <td>1.0.0</td>\n",
              "      <td>2.3</td>\n",
              "      <td>2.3</td>\n",
              "      <td>False</td>\n",
              "      <td>0</td>\n",
              "      <td>bolt_zurich</td>\n",
              "      <td>https://gbfs-validator.netlify.app/validator?u...</td>\n",
              "    </tr>\n",
              "    <tr>\n",
              "      <th>1</th>\n",
              "      <td>[{'schema': {'$schema': 'http://json-schema.or...</td>\n",
              "      <td>1.0.0</td>\n",
              "      <td>2.3</td>\n",
              "      <td>2.3</td>\n",
              "      <td>True</td>\n",
              "      <td>13</td>\n",
              "      <td>velospot</td>\n",
              "      <td>https://gbfs-validator.netlify.app/validator?u...</td>\n",
              "    </tr>\n",
              "    <tr>\n",
              "      <th>2</th>\n",
              "      <td>[{'schema': {'$schema': 'http://json-schema.or...</td>\n",
              "      <td>1.0.0</td>\n",
              "      <td>2.3</td>\n",
              "      <td>2.3</td>\n",
              "      <td>False</td>\n",
              "      <td>0</td>\n",
              "      <td>carvelo2go</td>\n",
              "      <td>https://gbfs-validator.netlify.app/validator?u...</td>\n",
              "    </tr>\n",
              "    <tr>\n",
              "      <th>3</th>\n",
              "      <td>[{'schema': {'$schema': 'http://json-schema.or...</td>\n",
              "      <td>1.0.0</td>\n",
              "      <td>2.3</td>\n",
              "      <td>2.3</td>\n",
              "      <td>False</td>\n",
              "      <td>0</td>\n",
              "      <td>bird-biel</td>\n",
              "      <td>https://gbfs-validator.netlify.app/validator?u...</td>\n",
              "    </tr>\n",
              "  </tbody>\n",
              "</table>\n",
              "</div>\n",
              "    <div class=\"colab-df-buttons\">\n",
              "\n",
              "  <div class=\"colab-df-container\">\n",
              "    <button class=\"colab-df-convert\" onclick=\"convertToInteractive('df-33e2e8a5-f964-42a8-96da-23d0dba325e5')\"\n",
              "            title=\"Convert this dataframe to an interactive table.\"\n",
              "            style=\"display:none;\">\n",
              "\n",
              "  <svg xmlns=\"http://www.w3.org/2000/svg\" height=\"24px\" viewBox=\"0 -960 960 960\">\n",
              "    <path d=\"M120-120v-720h720v720H120Zm60-500h600v-160H180v160Zm220 220h160v-160H400v160Zm0 220h160v-160H400v160ZM180-400h160v-160H180v160Zm440 0h160v-160H620v160ZM180-180h160v-160H180v160Zm440 0h160v-160H620v160Z\"/>\n",
              "  </svg>\n",
              "    </button>\n",
              "\n",
              "  <style>\n",
              "    .colab-df-container {\n",
              "      display:flex;\n",
              "      gap: 12px;\n",
              "    }\n",
              "\n",
              "    .colab-df-convert {\n",
              "      background-color: #E8F0FE;\n",
              "      border: none;\n",
              "      border-radius: 50%;\n",
              "      cursor: pointer;\n",
              "      display: none;\n",
              "      fill: #1967D2;\n",
              "      height: 32px;\n",
              "      padding: 0 0 0 0;\n",
              "      width: 32px;\n",
              "    }\n",
              "\n",
              "    .colab-df-convert:hover {\n",
              "      background-color: #E2EBFA;\n",
              "      box-shadow: 0px 1px 2px rgba(60, 64, 67, 0.3), 0px 1px 3px 1px rgba(60, 64, 67, 0.15);\n",
              "      fill: #174EA6;\n",
              "    }\n",
              "\n",
              "    .colab-df-buttons div {\n",
              "      margin-bottom: 4px;\n",
              "    }\n",
              "\n",
              "    [theme=dark] .colab-df-convert {\n",
              "      background-color: #3B4455;\n",
              "      fill: #D2E3FC;\n",
              "    }\n",
              "\n",
              "    [theme=dark] .colab-df-convert:hover {\n",
              "      background-color: #434B5C;\n",
              "      box-shadow: 0px 1px 3px 1px rgba(0, 0, 0, 0.15);\n",
              "      filter: drop-shadow(0px 1px 2px rgba(0, 0, 0, 0.3));\n",
              "      fill: #FFFFFF;\n",
              "    }\n",
              "  </style>\n",
              "\n",
              "    <script>\n",
              "      const buttonEl =\n",
              "        document.querySelector('#df-33e2e8a5-f964-42a8-96da-23d0dba325e5 button.colab-df-convert');\n",
              "      buttonEl.style.display =\n",
              "        google.colab.kernel.accessAllowed ? 'block' : 'none';\n",
              "\n",
              "      async function convertToInteractive(key) {\n",
              "        const element = document.querySelector('#df-33e2e8a5-f964-42a8-96da-23d0dba325e5');\n",
              "        const dataTable =\n",
              "          await google.colab.kernel.invokeFunction('convertToInteractive',\n",
              "                                                    [key], {});\n",
              "        if (!dataTable) return;\n",
              "\n",
              "        const docLinkHtml = 'Like what you see? Visit the ' +\n",
              "          '<a target=\"_blank\" href=https://colab.research.google.com/notebooks/data_table.ipynb>data table notebook</a>'\n",
              "          + ' to learn more about interactive tables.';\n",
              "        element.innerHTML = '';\n",
              "        dataTable['output_type'] = 'display_data';\n",
              "        await google.colab.output.renderOutput(dataTable, element);\n",
              "        const docLink = document.createElement('div');\n",
              "        docLink.innerHTML = docLinkHtml;\n",
              "        element.appendChild(docLink);\n",
              "      }\n",
              "    </script>\n",
              "  </div>\n",
              "\n",
              "\n",
              "<div id=\"df-26c1dde2-3eba-43b7-8d40-82f89a1f67d9\">\n",
              "  <button class=\"colab-df-quickchart\" onclick=\"quickchart('df-26c1dde2-3eba-43b7-8d40-82f89a1f67d9')\"\n",
              "            title=\"Suggest charts.\"\n",
              "            style=\"display:none;\">\n",
              "\n",
              "<svg xmlns=\"http://www.w3.org/2000/svg\" height=\"24px\"viewBox=\"0 0 24 24\"\n",
              "     width=\"24px\">\n",
              "    <g>\n",
              "        <path d=\"M19 3H5c-1.1 0-2 .9-2 2v14c0 1.1.9 2 2 2h14c1.1 0 2-.9 2-2V5c0-1.1-.9-2-2-2zM9 17H7v-7h2v7zm4 0h-2V7h2v10zm4 0h-2v-4h2v4z\"/>\n",
              "    </g>\n",
              "</svg>\n",
              "  </button>\n",
              "\n",
              "<style>\n",
              "  .colab-df-quickchart {\n",
              "    background-color: #E8F0FE;\n",
              "    border: none;\n",
              "    border-radius: 50%;\n",
              "    cursor: pointer;\n",
              "    display: none;\n",
              "    fill: #1967D2;\n",
              "    height: 32px;\n",
              "    padding: 0 0 0 0;\n",
              "    width: 32px;\n",
              "  }\n",
              "\n",
              "  .colab-df-quickchart:hover {\n",
              "    background-color: #E2EBFA;\n",
              "    box-shadow: 0px 1px 2px rgba(60, 64, 67, 0.3), 0px 1px 3px 1px rgba(60, 64, 67, 0.15);\n",
              "    fill: #174EA6;\n",
              "  }\n",
              "\n",
              "  [theme=dark] .colab-df-quickchart {\n",
              "    background-color: #3B4455;\n",
              "    fill: #D2E3FC;\n",
              "  }\n",
              "\n",
              "  [theme=dark] .colab-df-quickchart:hover {\n",
              "    background-color: #434B5C;\n",
              "    box-shadow: 0px 1px 3px 1px rgba(0, 0, 0, 0.15);\n",
              "    filter: drop-shadow(0px 1px 2px rgba(0, 0, 0, 0.3));\n",
              "    fill: #FFFFFF;\n",
              "  }\n",
              "</style>\n",
              "\n",
              "  <script>\n",
              "    async function quickchart(key) {\n",
              "      const charts = await google.colab.kernel.invokeFunction(\n",
              "          'suggestCharts', [key], {});\n",
              "    }\n",
              "    (() => {\n",
              "      let quickchartButtonEl =\n",
              "        document.querySelector('#df-26c1dde2-3eba-43b7-8d40-82f89a1f67d9 button');\n",
              "      quickchartButtonEl.style.display =\n",
              "        google.colab.kernel.accessAllowed ? 'block' : 'none';\n",
              "    })();\n",
              "  </script>\n",
              "</div>\n",
              "    </div>\n",
              "  </div>\n"
            ]
          },
          "metadata": {},
          "execution_count": 11
        }
      ]
    },
    {
      "cell_type": "code",
      "source": [
        "ValidationResults['Validator'] = 'https://gbfs-validator.netlify.app/validator?url=https://gbfs.prod.sharedmobility.ch/v2/gbfs/'+ ValidationResults['provider']+'/gbfs'"
      ],
      "metadata": {
        "id": "wNvRDkv4rK8X"
      },
      "id": "wNvRDkv4rK8X",
      "execution_count": 9,
      "outputs": []
    },
    {
      "cell_type": "code",
      "source": [
        "ValidationResults = ValidationResults.drop(columns=['files','summary.validatorVersion','summary.version.detected'])"
      ],
      "metadata": {
        "id": "WYsFR3F3q_II"
      },
      "id": "WYsFR3F3q_II",
      "execution_count": 12,
      "outputs": []
    },
    {
      "cell_type": "code",
      "source": [
        "ValidationResults"
      ],
      "metadata": {
        "id": "TNaepdOdcQBP",
        "colab": {
          "base_uri": "https://localhost:8080/",
          "height": 175
        },
        "outputId": "d45df1e7-ebcf-44ea-d2fb-a01fb7d9a296"
      },
      "id": "TNaepdOdcQBP",
      "execution_count": 40,
      "outputs": [
        {
          "output_type": "execute_result",
          "data": {
            "text/plain": [
              "  summary.version.validated  summary.hasErrors  summary.errorsCount  \\\n",
              "0                       2.3              False                    0   \n",
              "1                       2.3               True                   13   \n",
              "2                       2.3              False                    0   \n",
              "3                       2.3              False                    0   \n",
              "\n",
              "      provider                                          Validator   newCol  \n",
              "0  bolt_zurich  https://gbfs-validator.netlify.app/validator?u...  schwarz  \n",
              "1     velospot  https://gbfs-validator.netlify.app/validator?u...     grün  \n",
              "2   carvelo2go  https://gbfs-validator.netlify.app/validator?u...  schwarz  \n",
              "3    bird-biel  https://gbfs-validator.netlify.app/validator?u...  schwarz  "
            ],
            "text/html": [
              "\n",
              "  <div id=\"df-673e93d9-12e1-4646-8aff-d6c76e4b1f6b\" class=\"colab-df-container\">\n",
              "    <div>\n",
              "<style scoped>\n",
              "    .dataframe tbody tr th:only-of-type {\n",
              "        vertical-align: middle;\n",
              "    }\n",
              "\n",
              "    .dataframe tbody tr th {\n",
              "        vertical-align: top;\n",
              "    }\n",
              "\n",
              "    .dataframe thead th {\n",
              "        text-align: right;\n",
              "    }\n",
              "</style>\n",
              "<table border=\"1\" class=\"dataframe\">\n",
              "  <thead>\n",
              "    <tr style=\"text-align: right;\">\n",
              "      <th></th>\n",
              "      <th>summary.version.validated</th>\n",
              "      <th>summary.hasErrors</th>\n",
              "      <th>summary.errorsCount</th>\n",
              "      <th>provider</th>\n",
              "      <th>Validator</th>\n",
              "      <th>newCol</th>\n",
              "    </tr>\n",
              "  </thead>\n",
              "  <tbody>\n",
              "    <tr>\n",
              "      <th>0</th>\n",
              "      <td>2.3</td>\n",
              "      <td>False</td>\n",
              "      <td>0</td>\n",
              "      <td>bolt_zurich</td>\n",
              "      <td>https://gbfs-validator.netlify.app/validator?u...</td>\n",
              "      <td>schwarz</td>\n",
              "    </tr>\n",
              "    <tr>\n",
              "      <th>1</th>\n",
              "      <td>2.3</td>\n",
              "      <td>True</td>\n",
              "      <td>13</td>\n",
              "      <td>velospot</td>\n",
              "      <td>https://gbfs-validator.netlify.app/validator?u...</td>\n",
              "      <td>grün</td>\n",
              "    </tr>\n",
              "    <tr>\n",
              "      <th>2</th>\n",
              "      <td>2.3</td>\n",
              "      <td>False</td>\n",
              "      <td>0</td>\n",
              "      <td>carvelo2go</td>\n",
              "      <td>https://gbfs-validator.netlify.app/validator?u...</td>\n",
              "      <td>schwarz</td>\n",
              "    </tr>\n",
              "    <tr>\n",
              "      <th>3</th>\n",
              "      <td>2.3</td>\n",
              "      <td>False</td>\n",
              "      <td>0</td>\n",
              "      <td>bird-biel</td>\n",
              "      <td>https://gbfs-validator.netlify.app/validator?u...</td>\n",
              "      <td>schwarz</td>\n",
              "    </tr>\n",
              "  </tbody>\n",
              "</table>\n",
              "</div>\n",
              "    <div class=\"colab-df-buttons\">\n",
              "\n",
              "  <div class=\"colab-df-container\">\n",
              "    <button class=\"colab-df-convert\" onclick=\"convertToInteractive('df-673e93d9-12e1-4646-8aff-d6c76e4b1f6b')\"\n",
              "            title=\"Convert this dataframe to an interactive table.\"\n",
              "            style=\"display:none;\">\n",
              "\n",
              "  <svg xmlns=\"http://www.w3.org/2000/svg\" height=\"24px\" viewBox=\"0 -960 960 960\">\n",
              "    <path d=\"M120-120v-720h720v720H120Zm60-500h600v-160H180v160Zm220 220h160v-160H400v160Zm0 220h160v-160H400v160ZM180-400h160v-160H180v160Zm440 0h160v-160H620v160ZM180-180h160v-160H180v160Zm440 0h160v-160H620v160Z\"/>\n",
              "  </svg>\n",
              "    </button>\n",
              "\n",
              "  <style>\n",
              "    .colab-df-container {\n",
              "      display:flex;\n",
              "      gap: 12px;\n",
              "    }\n",
              "\n",
              "    .colab-df-convert {\n",
              "      background-color: #E8F0FE;\n",
              "      border: none;\n",
              "      border-radius: 50%;\n",
              "      cursor: pointer;\n",
              "      display: none;\n",
              "      fill: #1967D2;\n",
              "      height: 32px;\n",
              "      padding: 0 0 0 0;\n",
              "      width: 32px;\n",
              "    }\n",
              "\n",
              "    .colab-df-convert:hover {\n",
              "      background-color: #E2EBFA;\n",
              "      box-shadow: 0px 1px 2px rgba(60, 64, 67, 0.3), 0px 1px 3px 1px rgba(60, 64, 67, 0.15);\n",
              "      fill: #174EA6;\n",
              "    }\n",
              "\n",
              "    .colab-df-buttons div {\n",
              "      margin-bottom: 4px;\n",
              "    }\n",
              "\n",
              "    [theme=dark] .colab-df-convert {\n",
              "      background-color: #3B4455;\n",
              "      fill: #D2E3FC;\n",
              "    }\n",
              "\n",
              "    [theme=dark] .colab-df-convert:hover {\n",
              "      background-color: #434B5C;\n",
              "      box-shadow: 0px 1px 3px 1px rgba(0, 0, 0, 0.15);\n",
              "      filter: drop-shadow(0px 1px 2px rgba(0, 0, 0, 0.3));\n",
              "      fill: #FFFFFF;\n",
              "    }\n",
              "  </style>\n",
              "\n",
              "    <script>\n",
              "      const buttonEl =\n",
              "        document.querySelector('#df-673e93d9-12e1-4646-8aff-d6c76e4b1f6b button.colab-df-convert');\n",
              "      buttonEl.style.display =\n",
              "        google.colab.kernel.accessAllowed ? 'block' : 'none';\n",
              "\n",
              "      async function convertToInteractive(key) {\n",
              "        const element = document.querySelector('#df-673e93d9-12e1-4646-8aff-d6c76e4b1f6b');\n",
              "        const dataTable =\n",
              "          await google.colab.kernel.invokeFunction('convertToInteractive',\n",
              "                                                    [key], {});\n",
              "        if (!dataTable) return;\n",
              "\n",
              "        const docLinkHtml = 'Like what you see? Visit the ' +\n",
              "          '<a target=\"_blank\" href=https://colab.research.google.com/notebooks/data_table.ipynb>data table notebook</a>'\n",
              "          + ' to learn more about interactive tables.';\n",
              "        element.innerHTML = '';\n",
              "        dataTable['output_type'] = 'display_data';\n",
              "        await google.colab.output.renderOutput(dataTable, element);\n",
              "        const docLink = document.createElement('div');\n",
              "        docLink.innerHTML = docLinkHtml;\n",
              "        element.appendChild(docLink);\n",
              "      }\n",
              "    </script>\n",
              "  </div>\n",
              "\n",
              "\n",
              "<div id=\"df-28c4a6a0-d83b-4db6-8e23-6211f33b3d95\">\n",
              "  <button class=\"colab-df-quickchart\" onclick=\"quickchart('df-28c4a6a0-d83b-4db6-8e23-6211f33b3d95')\"\n",
              "            title=\"Suggest charts.\"\n",
              "            style=\"display:none;\">\n",
              "\n",
              "<svg xmlns=\"http://www.w3.org/2000/svg\" height=\"24px\"viewBox=\"0 0 24 24\"\n",
              "     width=\"24px\">\n",
              "    <g>\n",
              "        <path d=\"M19 3H5c-1.1 0-2 .9-2 2v14c0 1.1.9 2 2 2h14c1.1 0 2-.9 2-2V5c0-1.1-.9-2-2-2zM9 17H7v-7h2v7zm4 0h-2V7h2v10zm4 0h-2v-4h2v4z\"/>\n",
              "    </g>\n",
              "</svg>\n",
              "  </button>\n",
              "\n",
              "<style>\n",
              "  .colab-df-quickchart {\n",
              "    background-color: #E8F0FE;\n",
              "    border: none;\n",
              "    border-radius: 50%;\n",
              "    cursor: pointer;\n",
              "    display: none;\n",
              "    fill: #1967D2;\n",
              "    height: 32px;\n",
              "    padding: 0 0 0 0;\n",
              "    width: 32px;\n",
              "  }\n",
              "\n",
              "  .colab-df-quickchart:hover {\n",
              "    background-color: #E2EBFA;\n",
              "    box-shadow: 0px 1px 2px rgba(60, 64, 67, 0.3), 0px 1px 3px 1px rgba(60, 64, 67, 0.15);\n",
              "    fill: #174EA6;\n",
              "  }\n",
              "\n",
              "  [theme=dark] .colab-df-quickchart {\n",
              "    background-color: #3B4455;\n",
              "    fill: #D2E3FC;\n",
              "  }\n",
              "\n",
              "  [theme=dark] .colab-df-quickchart:hover {\n",
              "    background-color: #434B5C;\n",
              "    box-shadow: 0px 1px 3px 1px rgba(0, 0, 0, 0.15);\n",
              "    filter: drop-shadow(0px 1px 2px rgba(0, 0, 0, 0.3));\n",
              "    fill: #FFFFFF;\n",
              "  }\n",
              "</style>\n",
              "\n",
              "  <script>\n",
              "    async function quickchart(key) {\n",
              "      const charts = await google.colab.kernel.invokeFunction(\n",
              "          'suggestCharts', [key], {});\n",
              "    }\n",
              "    (() => {\n",
              "      let quickchartButtonEl =\n",
              "        document.querySelector('#df-28c4a6a0-d83b-4db6-8e23-6211f33b3d95 button');\n",
              "      quickchartButtonEl.style.display =\n",
              "        google.colab.kernel.accessAllowed ? 'block' : 'none';\n",
              "    })();\n",
              "  </script>\n",
              "</div>\n",
              "    </div>\n",
              "  </div>\n"
            ]
          },
          "metadata": {},
          "execution_count": 40
        }
      ]
    },
    {
      "cell_type": "code",
      "source": [
        "ValidationResults.to_csv(\"GBFS_validated.csv\",header=True,index=False)"
      ],
      "metadata": {
        "id": "oW3dZ5xusSHE"
      },
      "id": "oW3dZ5xusSHE",
      "execution_count": null,
      "outputs": []
    },
    {
      "cell_type": "markdown",
      "source": [
        "# Create Statusbadges für Übersicht auf Github"
      ],
      "metadata": {
        "id": "-qAnSfp0zD2K"
      },
      "id": "-qAnSfp0zD2K"
    },
    {
      "cell_type": "code",
      "source": [
        "# Funktion die den Farbcode zuweist.\n",
        "def CreateBadgeColour(row):\n",
        "  if row['summary.hasErrors']:\n",
        "    return \"red\"\n",
        "  else:\n",
        "    return \"green\""
      ],
      "metadata": {
        "id": "hQDsCDgyvvbP"
      },
      "id": "hQDsCDgyvvbP",
      "execution_count": 75,
      "outputs": []
    },
    {
      "cell_type": "code",
      "source": [
        "ValidationResults['Colour']= ValidationResults.apply(lambda row: CreateBadgeColour(row), axis=1)"
      ],
      "metadata": {
        "id": "0dKmGHAdtwcP"
      },
      "id": "0dKmGHAdtwcP",
      "execution_count": 76,
      "outputs": []
    },
    {
      "cell_type": "code",
      "source": [
        "ValidationResults['Badge']= '- [![Dokumentation](https://badgen.net/badge/' + ValidationResults['provider'] + '/valid/' + ValidationResults['Colour'] + '?icon=github)](' + ValidationResults['Validator'] + ')'\n",
        "ValidationResults['Badge']\n"
      ],
      "metadata": {
        "colab": {
          "base_uri": "https://localhost:8080/"
        },
        "id": "atzq-ytvqYWf",
        "outputId": "c8db97b9-25b8-4c2f-e3a5-8c682605446b"
      },
      "id": "atzq-ytvqYWf",
      "execution_count": 73,
      "outputs": [
        {
          "output_type": "execute_result",
          "data": {
            "text/plain": [
              "0    - [![Dokumentation](https://badgen.net/badge/b...\n",
              "1    - [![Dokumentation](https://badgen.net/badge/v...\n",
              "2    - [![Dokumentation](https://badgen.net/badge/c...\n",
              "3    - [![Dokumentation](https://badgen.net/badge/b...\n",
              "Name: Badge, dtype: object"
            ]
          },
          "metadata": {},
          "execution_count": 73
        }
      ]
    }
  ],
  "metadata": {
    "kernelspec": {
      "display_name": "Python 3",
      "language": "python",
      "name": "python3"
    },
    "language_info": {
      "codemirror_mode": {
        "name": "ipython",
        "version": 3
      },
      "file_extension": ".py",
      "mimetype": "text/x-python",
      "name": "python",
      "nbconvert_exporter": "python",
      "pygments_lexer": "ipython3",
      "version": "3.8.7"
    },
    "colab": {
      "provenance": [],
      "include_colab_link": true
    }
  },
  "nbformat": 4,
  "nbformat_minor": 5
}