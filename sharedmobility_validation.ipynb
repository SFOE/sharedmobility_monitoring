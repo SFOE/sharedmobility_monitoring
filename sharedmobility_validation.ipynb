{
  "cells": [
    {
      "cell_type": "markdown",
      "metadata": {
        "id": "view-in-github",
        "colab_type": "text"
      },
      "source": [
        "<a href=\"https://colab.research.google.com/github/nrohrbach/sharedmobility_monitoring/blob/main/sharedmobility_validation.ipynb\" target=\"_parent\"><img src=\"https://colab.research.google.com/assets/colab-badge.svg\" alt=\"Open In Colab\"/></a>"
      ]
    },
    {
      "cell_type": "markdown",
      "source": [
        "# Sharedmobility.ch - Validation of GBFS-Feeds"
      ],
      "metadata": {
        "id": "ZbZ6p926Kj5H"
      },
      "id": "ZbZ6p926Kj5H"
    },
    {
      "cell_type": "code",
      "source": [
        "pip install datetime"
      ],
      "metadata": {
        "id": "0bAndeTYKm8b",
        "outputId": "0c8a6560-0b80-4656-95ce-0e56e2e84d23",
        "colab": {
          "base_uri": "https://localhost:8080/"
        }
      },
      "id": "0bAndeTYKm8b",
      "execution_count": 1,
      "outputs": [
        {
          "output_type": "stream",
          "name": "stdout",
          "text": [
            "Collecting datetime\n",
            "  Downloading DateTime-5.2-py3-none-any.whl (52 kB)\n",
            "\u001b[2K     \u001b[90m━━━━━━━━━━━━━━━━━━━━━━━━━━━━━━━━━━━━━━━━\u001b[0m \u001b[32m52.2/52.2 kB\u001b[0m \u001b[31m1.4 MB/s\u001b[0m eta \u001b[36m0:00:00\u001b[0m\n",
            "\u001b[?25hCollecting zope.interface (from datetime)\n",
            "  Downloading zope.interface-6.0-cp310-cp310-manylinux_2_5_x86_64.manylinux1_x86_64.manylinux_2_17_x86_64.manylinux2014_x86_64.whl (246 kB)\n",
            "\u001b[2K     \u001b[90m━━━━━━━━━━━━━━━━━━━━━━━━━━━━━━━━━━━━━━━\u001b[0m \u001b[32m247.0/247.0 kB\u001b[0m \u001b[31m7.8 MB/s\u001b[0m eta \u001b[36m0:00:00\u001b[0m\n",
            "\u001b[?25hRequirement already satisfied: pytz in /usr/local/lib/python3.10/dist-packages (from datetime) (2023.3)\n",
            "Requirement already satisfied: setuptools in /usr/local/lib/python3.10/dist-packages (from zope.interface->datetime) (67.7.2)\n",
            "Installing collected packages: zope.interface, datetime\n",
            "Successfully installed datetime-5.2 zope.interface-6.0\n"
          ]
        }
      ]
    },
    {
      "cell_type": "code",
      "source": [
        "import requests\n",
        "import pandas as pd\n",
        "from datetime import datetime\n",
        "import json"
      ],
      "metadata": {
        "id": "4RsIcIFTKpmO"
      },
      "id": "4RsIcIFTKpmO",
      "execution_count": 17,
      "outputs": []
    },
    {
      "cell_type": "code",
      "source": [
        "# GBFS Feeds abfragen\n",
        "url = 'https://gbfs.prod.sharedmobility.ch/v2/gbfs'\n",
        "feeds = requests.get(url).json()"
      ],
      "metadata": {
        "id": "BWDoreN6KrCV"
      },
      "id": "BWDoreN6KrCV",
      "execution_count": 130,
      "outputs": []
    },
    {
      "cell_type": "code",
      "source": [],
      "metadata": {
        "id": "afStZWEIw_Ri"
      },
      "id": "afStZWEIw_Ri",
      "execution_count": null,
      "outputs": []
    },
    {
      "cell_type": "code",
      "source": [
        "# Alle GBFS Feeds als Dataframe laden\n",
        "id = [s['id'] for s in feeds['systems']]\n",
        "url = [s['url'] for s in feeds['systems']]\n",
        "gbfsfeeds = pd.DataFrame(list(zip(id, url)),columns =['provider', 'gbfsurl'])\n",
        "providers = list(gbfsfeeds['provider'])"
      ],
      "metadata": {
        "id": "t3zla7tkKs9G"
      },
      "id": "t3zla7tkKs9G",
      "execution_count": 131,
      "outputs": []
    },
    {
      "cell_type": "code",
      "source": [
        "# Nur einen Provider temporär einstellen!\n",
        "providers = ['bolt_zurich','velospot','carvelo2go','bird-biel']\n",
        "providers"
      ],
      "metadata": {
        "id": "czVo85yrxDPD",
        "outputId": "00e685c0-1887-44b0-de0d-0761d696520b",
        "colab": {
          "base_uri": "https://localhost:8080/"
        }
      },
      "id": "czVo85yrxDPD",
      "execution_count": 98,
      "outputs": [
        {
          "output_type": "execute_result",
          "data": {
            "text/plain": [
              "['bolt_zurich', 'velospot', 'carvelo2go', 'bird-biel']"
            ]
          },
          "metadata": {},
          "execution_count": 98
        }
      ]
    },
    {
      "cell_type": "code",
      "source": [
        "# Validieren!\n",
        "JsonResponse = []\n",
        "providerList2 = []\n",
        "HasErrors = []\n",
        "NumberOfErrors = []\n",
        "\n",
        "for provider in providers:\n",
        "    try:\n",
        "      headers = {\n",
        "          'accept': '*/*',\n",
        "          'Content-Type': 'application/json',\n",
        "          'User-Agent': 'geoinformation@bfe.admin.ch',\n",
        "      }\n",
        "\n",
        "      json_data = {\n",
        "          'url': 'https://gbfs.prod.sharedmobility.ch/v2/gbfs/'+ provider +'/gbfs',\n",
        "          'options': {\n",
        "              'freefloating': False,\n",
        "              'docked': False,\n",
        "              'version': None,\n",
        "              'auth': {\n",
        "                  'type': None,\n",
        "                  'basicAuth': {\n",
        "                      'user': None,\n",
        "                      'password': None,\n",
        "                  },\n",
        "                  'bearerToken': {\n",
        "                      'token': None,\n",
        "                  },\n",
        "                  'oauthClientCredentialsGrant': {\n",
        "                      'user': None,\n",
        "                      'password': None,\n",
        "                      'tokenUrl': None,\n",
        "                  },\n",
        "              },\n",
        "          },\n",
        "      }\n",
        "      response = requests.post('https://gbfs-validator.netlify.app/.netlify/functions/validator', headers=headers, json=json_data).json()\n",
        "\n",
        "      providerList2.append(provider)\n",
        "      JsonResponse.append(response)\n",
        "      HasErrors.append(response['summary']['hasErrors'])\n",
        "      NumberOfErrors.append(response['summary']['errorsCount'])\n",
        "\n",
        "    except:\n",
        "      providerList2.append(provider)\n",
        "      JsonResponse.append(response)\n",
        "      HasErrors.append('nan')\n",
        "      NumberOfErrors.append('nan')"
      ],
      "metadata": {
        "id": "uby9HfGkKyP9"
      },
      "id": "uby9HfGkKyP9",
      "execution_count": 132,
      "outputs": []
    },
    {
      "cell_type": "code",
      "source": [
        "ValidationResults = pd.json_normalize(JsonResponse)"
      ],
      "metadata": {
        "id": "_sdN_zj8jZgq"
      },
      "id": "_sdN_zj8jZgq",
      "execution_count": 167,
      "outputs": []
    },
    {
      "cell_type": "code",
      "source": [
        "ValidationResults['provider'] = providerList2"
      ],
      "metadata": {
        "id": "uxdvvfbSqv0o"
      },
      "id": "uxdvvfbSqv0o",
      "execution_count": 168,
      "outputs": []
    },
    {
      "cell_type": "code",
      "source": [
        "ValidationResults['Validator'] = 'https://gbfs-validator.netlify.app/validator?url=https://gbfs.prod.sharedmobility.ch/v2/gbfs/'+ ValidationResults['provider']+'/gbfs'"
      ],
      "metadata": {
        "id": "wNvRDkv4rK8X"
      },
      "id": "wNvRDkv4rK8X",
      "execution_count": 169,
      "outputs": []
    },
    {
      "cell_type": "code",
      "source": [
        "ValidationResults = ValidationResults.drop(columns=['files','summary.validatorVersion','summary.version.detected','errorMessage'])"
      ],
      "metadata": {
        "id": "WYsFR3F3q_II"
      },
      "id": "WYsFR3F3q_II",
      "execution_count": 170,
      "outputs": []
    },
    {
      "cell_type": "code",
      "source": [
        "ValidationResults"
      ],
      "metadata": {
        "id": "TNaepdOdcQBP"
      },
      "id": "TNaepdOdcQBP",
      "execution_count": null,
      "outputs": []
    },
    {
      "cell_type": "code",
      "source": [
        "ValidationResults.to_csv(\"GBFS_validated.csv\",header=True,index=False)"
      ],
      "metadata": {
        "id": "oW3dZ5xusSHE"
      },
      "id": "oW3dZ5xusSHE",
      "execution_count": 171,
      "outputs": []
    },
    {
      "cell_type": "code",
      "source": [],
      "metadata": {
        "id": "hyENFwwSstaP"
      },
      "id": "hyENFwwSstaP",
      "execution_count": null,
      "outputs": []
    }
  ],
  "metadata": {
    "kernelspec": {
      "display_name": "Python 3",
      "language": "python",
      "name": "python3"
    },
    "language_info": {
      "codemirror_mode": {
        "name": "ipython",
        "version": 3
      },
      "file_extension": ".py",
      "mimetype": "text/x-python",
      "name": "python",
      "nbconvert_exporter": "python",
      "pygments_lexer": "ipython3",
      "version": "3.8.7"
    },
    "colab": {
      "provenance": [],
      "include_colab_link": true
    }
  },
  "nbformat": 4,
  "nbformat_minor": 5
}