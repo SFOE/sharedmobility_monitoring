{
  "cells": [
    {
      "cell_type": "markdown",
      "metadata": {
        "id": "view-in-github",
        "colab_type": "text"
      },
      "source": [
        "<a href=\"https://colab.research.google.com/github/nrohrbach/sharedmobility_monitoring/blob/main/sharedmobility_monitoring.ipynb\" target=\"_parent\"><img src=\"https://colab.research.google.com/assets/colab-badge.svg\" alt=\"Open In Colab\"/></a>"
      ]
    },
    {
      "cell_type": "markdown",
      "source": [
        "# Monitoring GBFS-Feeds on sharedmobility.ch"
      ],
      "metadata": {
        "id": "ArLA6reKHjnU"
      },
      "id": "ArLA6reKHjnU"
    },
    {
      "cell_type": "markdown",
      "source": [
        "Beschreibung..."
      ],
      "metadata": {
        "id": "QdCZeYS_HcI1"
      },
      "id": "QdCZeYS_HcI1"
    },
    {
      "cell_type": "code",
      "source": [
        "#pip install datetime"
      ],
      "metadata": {
        "id": "KQ17wcrXlymH"
      },
      "id": "KQ17wcrXlymH",
      "execution_count": null,
      "outputs": []
    },
    {
      "cell_type": "code",
      "source": [
        "import requests\n",
        "import pandas as pd\n",
        "from datetime import datetime\n",
        "import matplotlib.pyplot as plt"
      ],
      "metadata": {
        "id": "iCoiAdpkIc3L"
      },
      "id": "iCoiAdpkIc3L",
      "execution_count": 2,
      "outputs": []
    },
    {
      "cell_type": "code",
      "source": [
        "# GBFS Feeds abfragen\n",
        "url = 'https://sharedmobility.ch/v2/gbfs'\n",
        "header = {\"Authorization\":\"geoinformation@bfe.admin.ch\"}\n",
        "feeds = requests.get(url,headers=header).json()"
      ],
      "metadata": {
        "id": "7MVA3cJWHooE"
      },
      "id": "7MVA3cJWHooE",
      "execution_count": 10,
      "outputs": []
    },
    {
      "cell_type": "code",
      "source": [
        "# Alle GBFS Feeds als Dataframe laden\n",
        "id = [s['id'] for s in feeds['systems']]\n",
        "url = [s['url'] for s in feeds['systems']]\n",
        "gbfsfeeds = pd.DataFrame(list(zip(id, url)),columns =['provider', 'gbfsurl'])\n",
        "providers = list(gbfsfeeds['provider'])"
      ],
      "metadata": {
        "id": "fLULbN72IAC1"
      },
      "id": "fLULbN72IAC1",
      "execution_count": 11,
      "outputs": []
    },
    {
      "cell_type": "markdown",
      "source": [
        "## Auswertung pro Provider"
      ],
      "metadata": {
        "id": "IdaiXxWWSFUM"
      },
      "id": "IdaiXxWWSFUM"
    },
    {
      "cell_type": "code",
      "source": [
        "# Auswertung station_status.json\n",
        "providerList = []\n",
        "VehiclesInStationList = []\n",
        "NumberOfStationsList = []\n",
        "\n",
        "for provider in providers:\n",
        "  try:\n",
        "      stationstatus = requests.get('https://sharedmobility.ch/v2/gbfs/' + provider +'/station_status').json()\n",
        "      stationstatus = [s['num_bikes_available'] for s in stationstatus['data']['stations']]\n",
        "      VehiclesInStationList.append(sum(stationstatus))\n",
        "      NumberOfStationsList.append(len(stationstatus))\n",
        "      providerList.append(provider)\n",
        "  except:\n",
        "      VehiclesInStationList.append('nan')\n",
        "      NumberOfStationsList.append('nan')\n",
        "      providerList.append(provider)\n",
        "\n",
        "# Dataframe erstellen\n",
        "dict = {'Provider': providerList, 'NumberOfStations': NumberOfStationsList, 'VehiclesInStation': VehiclesInStationList}\n",
        "dfStationStatus = pd.DataFrame(dict)\n"
      ],
      "metadata": {
        "id": "4phoZddXRQ_E"
      },
      "id": "4phoZddXRQ_E",
      "execution_count": 12,
      "outputs": []
    },
    {
      "cell_type": "code",
      "source": [
        "# Auswertung free_bike_status.json\n",
        "providerList = []\n",
        "FreeBikeList = []\n",
        "\n",
        "for provider in providers:\n",
        "  try:\n",
        "      freebikesstatus = requests.get('https://sharedmobility.ch/v2/gbfs/' + provider +'/free_bike_status').json()\n",
        "      freebikesstatus = [s['bike_id'] for s in freebikesstatus['data']['bikes']]\n",
        "      FreeBikeList.append(len(freebikesstatus))\n",
        "      providerList.append(provider)\n",
        "  except:\n",
        "      FreeBikeList.append('nan')\n",
        "      providerList.append(provider)\n",
        "\n",
        "# Dataframe erstellen\n",
        "dict = {'Provider': providerList, 'NumberOfFreeBikes': FreeBikeList}\n",
        "dfFreeBikes = pd.DataFrame(dict)"
      ],
      "metadata": {
        "id": "BZRKcvmhmDyL"
      },
      "id": "BZRKcvmhmDyL",
      "execution_count": 13,
      "outputs": []
    },
    {
      "cell_type": "code",
      "source": [
        "# Dataframe zusammenführen und speichern\n",
        "dfMonitoring = pd.merge(dfStationStatus, dfFreeBikes, how=\"left\", on=[\"Provider\"])\n",
        "dfMonitoring['Date'] = datetime.today().strftime(\"%Y-%m-%d\")\n",
        "\n",
        "#Speichern\n",
        "dfMonitoring.to_csv(\"data/Sharedmobility_Providers.csv\", header=False, index=False, mode='a')\n"
      ],
      "metadata": {
        "id": "T6Ui1q23nGDA"
      },
      "id": "T6Ui1q23nGDA",
      "execution_count": null,
      "outputs": []
    },
    {
      "cell_type": "code",
      "source": [
        "#Visualisierung\n",
        "df = pd.read_csv(\"data/Sharedmobility_Providers.csv\", parse_dates=['Date'])\n",
        "df = df.fillna(0)"
      ],
      "metadata": {
        "id": "a75DMLUjngvR"
      },
      "id": "a75DMLUjngvR",
      "execution_count": null,
      "outputs": []
    },
    {
      "cell_type": "code",
      "source": [
        "# LineChart mit Anzahl Fahrzeugen und Anzahl Stationen\n",
        "\n",
        "for provider in providers:\n",
        "  try:\n",
        "    df_provider = df[df['Provider']==provider]\n",
        "    df_provider = df_provider.pivot(index=\"Date\", columns=[\"Provider\"], values=['NumberOfStations','VehiclesInStation','NumberOfFreeBikes'])\n",
        "    df_provider.plot(figsize=(15,10))\n",
        "    plt.legend(loc='best')\n",
        "    plt.title(\"Anzahl Fahrzeuge und Stationen: \"+ provider)\n",
        "    plt.savefig('plots/' + provider + '.png')\n",
        "    plt.close()\n",
        "  except:\n",
        "    plt.savefig('plots/' + provider + '.png')"
      ],
      "metadata": {
        "id": "0IG9u4jvoF7S",
        "outputId": "a984fdc3-2803-41d6-fb01-b7c7f77741ee",
        "colab": {
          "base_uri": "https://localhost:8080/",
          "height": 34
        }
      },
      "id": "0IG9u4jvoF7S",
      "execution_count": null,
      "outputs": [
        {
          "output_type": "display_data",
          "data": {
            "text/plain": [
              "<Figure size 640x480 with 0 Axes>"
            ]
          },
          "metadata": {}
        }
      ]
    },
    {
      "cell_type": "code",
      "source": [],
      "metadata": {
        "id": "w-p747vhMI2U"
      },
      "id": "w-p747vhMI2U",
      "execution_count": null,
      "outputs": []
    }
  ],
  "metadata": {
    "kernelspec": {
      "display_name": "Python 3",
      "language": "python",
      "name": "python3"
    },
    "language_info": {
      "codemirror_mode": {
        "name": "ipython",
        "version": 3
      },
      "file_extension": ".py",
      "mimetype": "text/x-python",
      "name": "python",
      "nbconvert_exporter": "python",
      "pygments_lexer": "ipython3",
      "version": "3.8.7"
    },
    "colab": {
      "provenance": [],
      "include_colab_link": true
    }
  },
  "nbformat": 4,
  "nbformat_minor": 5
}