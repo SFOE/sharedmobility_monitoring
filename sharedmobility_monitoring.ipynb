{
  "cells": [
    {
      "cell_type": "markdown",
      "metadata": {
        "id": "view-in-github",
        "colab_type": "text"
      },
      "source": [
        "<a href=\"https://colab.research.google.com/github/nrohrbach/sharedmobility_monitoring/blob/main/sharedmobility_monitoring.ipynb\" target=\"_parent\"><img src=\"https://colab.research.google.com/assets/colab-badge.svg\" alt=\"Open In Colab\"/></a>"
      ]
    },
    {
      "cell_type": "markdown",
      "source": [
        "# Monitoring GBFS-Feeds on sharemobility.ch"
      ],
      "metadata": {
        "id": "ArLA6reKHjnU"
      },
      "id": "ArLA6reKHjnU"
    },
    {
      "cell_type": "markdown",
      "source": [
        "Beschreibung..."
      ],
      "metadata": {
        "id": "QdCZeYS_HcI1"
      },
      "id": "QdCZeYS_HcI1"
    },
    {
      "cell_type": "code",
      "source": [
        "import requests\n",
        "import pandas as pd"
      ],
      "metadata": {
        "id": "iCoiAdpkIc3L"
      },
      "id": "iCoiAdpkIc3L",
      "execution_count": 14,
      "outputs": []
    },
    {
      "cell_type": "code",
      "source": [
        "url = 'https://gbfs.prod.sharedmobility.ch/v2/gbfs'"
      ],
      "metadata": {
        "id": "7MVA3cJWHooE"
      },
      "id": "7MVA3cJWHooE",
      "execution_count": 3,
      "outputs": []
    },
    {
      "cell_type": "code",
      "source": [],
      "metadata": {
        "id": "b2a0MEfPIIFr"
      },
      "id": "b2a0MEfPIIFr",
      "execution_count": 6,
      "outputs": []
    },
    {
      "cell_type": "code",
      "source": [
        "url"
      ],
      "metadata": {
        "colab": {
          "base_uri": "https://localhost:8080/",
          "height": 35
        },
        "id": "cN9fxB5XHyPG",
        "outputId": "94a070bd-fc97-48d3-ed1c-1c569fd06a58"
      },
      "id": "cN9fxB5XHyPG",
      "execution_count": 4,
      "outputs": [
        {
          "output_type": "execute_result",
          "data": {
            "text/plain": [
              "'https://gbfs.prod.sharedmobility.ch/v2/gbfs'"
            ],
            "application/vnd.google.colaboratory.intrinsic+json": {
              "type": "string"
            }
          },
          "metadata": {},
          "execution_count": 4
        }
      ]
    },
    {
      "cell_type": "code",
      "source": [
        "feeds = requests.get(url).json()"
      ],
      "metadata": {
        "colab": {
          "base_uri": "https://localhost:8080/"
        },
        "id": "zJJSHv9MH1A8",
        "outputId": "facdd54a-c35e-4902-b979-61aaa32f427d"
      },
      "id": "zJJSHv9MH1A8",
      "execution_count": 17,
      "outputs": [
        {
          "output_type": "execute_result",
          "data": {
            "text/plain": [
              "{'systems': [{'id': 'donkey_thun',\n",
              "   'url': 'https://gbfs.prod.sharedmobility.ch/v2/gbfs/donkey_thun/gbfs'},\n",
              "  {'id': 'sponticar',\n",
              "   'url': 'https://gbfs.prod.sharedmobility.ch/v2/gbfs/sponticar/gbfs'},\n",
              "  {'id': 'carvelo2go',\n",
              "   'url': 'https://gbfs.prod.sharedmobility.ch/v2/gbfs/carvelo2go/gbfs'},\n",
              "  {'id': 'bird-kloten',\n",
              "   'url': 'https://gbfs.prod.sharedmobility.ch/v2/gbfs/bird-kloten/gbfs'},\n",
              "  {'id': 'lime_winterthur',\n",
              "   'url': 'https://gbfs.prod.sharedmobility.ch/v2/gbfs/lime_winterthur/gbfs'},\n",
              "  {'id': 'lime_opfikon',\n",
              "   'url': 'https://gbfs.prod.sharedmobility.ch/v2/gbfs/lime_opfikon/gbfs'},\n",
              "  {'id': 'bolt_zurich',\n",
              "   'url': 'https://gbfs.prod.sharedmobility.ch/v2/gbfs/bolt_zurich/gbfs'},\n",
              "  {'id': 'bird-platform-partner-jmfleets-bulle',\n",
              "   'url': 'https://gbfs.prod.sharedmobility.ch/v2/gbfs/bird-platform-partner-jmfleets-bulle/gbfs'},\n",
              "  {'id': 'pickebike_basel',\n",
              "   'url': 'https://gbfs.prod.sharedmobility.ch/v2/gbfs/pickebike_basel/gbfs'},\n",
              "  {'id': 'donkey_neuchatel',\n",
              "   'url': 'https://gbfs.prod.sharedmobility.ch/v2/gbfs/donkey_neuchatel/gbfs'},\n",
              "  {'id': 'lime_uster',\n",
              "   'url': 'https://gbfs.prod.sharedmobility.ch/v2/gbfs/lime_uster/gbfs'},\n",
              "  {'id': 'nextbike_ch',\n",
              "   'url': 'https://gbfs.prod.sharedmobility.ch/v2/gbfs/nextbike_ch/gbfs'},\n",
              "  {'id': 'pickebike_aubonne',\n",
              "   'url': 'https://gbfs.prod.sharedmobility.ch/v2/gbfs/pickebike_aubonne/gbfs'},\n",
              "  {'id': 'lime_basel',\n",
              "   'url': 'https://gbfs.prod.sharedmobility.ch/v2/gbfs/lime_basel/gbfs'},\n",
              "  {'id': 'lime_wetzikon',\n",
              "   'url': 'https://gbfs.prod.sharedmobility.ch/v2/gbfs/lime_wetzikon/gbfs'},\n",
              "  {'id': 'bird-basel',\n",
              "   'url': 'https://gbfs.prod.sharedmobility.ch/v2/gbfs/bird-basel/gbfs'},\n",
              "  {'id': 'donkey_freiburg',\n",
              "   'url': 'https://gbfs.prod.sharedmobility.ch/v2/gbfs/donkey_freiburg/gbfs'},\n",
              "  {'id': 'donkey_kreuzlingen',\n",
              "   'url': 'https://gbfs.prod.sharedmobility.ch/v2/gbfs/donkey_kreuzlingen/gbfs'},\n",
              "  {'id': 'pickebike_fribourg',\n",
              "   'url': 'https://gbfs.prod.sharedmobility.ch/v2/gbfs/pickebike_fribourg/gbfs'},\n",
              "  {'id': 'donkey_ge',\n",
              "   'url': 'https://gbfs.prod.sharedmobility.ch/v2/gbfs/donkey_ge/gbfs'},\n",
              "  {'id': 'donkey_li',\n",
              "   'url': 'https://gbfs.prod.sharedmobility.ch/v2/gbfs/donkey_li/gbfs'},\n",
              "  {'id': 'bird-platform-partner-jmfleetswl-biel',\n",
              "   'url': 'https://gbfs.prod.sharedmobility.ch/v2/gbfs/bird-platform-partner-jmfleetswl-biel/gbfs'},\n",
              "  {'id': 'bird-zurich',\n",
              "   'url': 'https://gbfs.prod.sharedmobility.ch/v2/gbfs/bird-zurich/gbfs'},\n",
              "  {'id': 'donkey_le_locle',\n",
              "   'url': 'https://gbfs.prod.sharedmobility.ch/v2/gbfs/donkey_le_locle/gbfs'},\n",
              "  {'id': 'donkey_sion',\n",
              "   'url': 'https://gbfs.prod.sharedmobility.ch/v2/gbfs/donkey_sion/gbfs'},\n",
              "  {'id': 'share_birrer_ch',\n",
              "   'url': 'https://gbfs.prod.sharedmobility.ch/v2/gbfs/share_birrer_ch/gbfs'},\n",
              "  {'id': 'donkey_yverdon-les-bains',\n",
              "   'url': 'https://gbfs.prod.sharedmobility.ch/v2/gbfs/donkey_yverdon-les-bains/gbfs'},\n",
              "  {'id': 'velospot',\n",
              "   'url': 'https://gbfs.prod.sharedmobility.ch/v2/gbfs/velospot/gbfs'},\n",
              "  {'id': '2em_cars',\n",
              "   'url': 'https://gbfs.prod.sharedmobility.ch/v2/gbfs/2em_cars/gbfs'},\n",
              "  {'id': 'mobility',\n",
              "   'url': 'https://gbfs.prod.sharedmobility.ch/v2/gbfs/mobility/gbfs'},\n",
              "  {'id': 'edrivecarsharing',\n",
              "   'url': 'https://gbfs.prod.sharedmobility.ch/v2/gbfs/edrivecarsharing/gbfs'}]}"
            ]
          },
          "metadata": {},
          "execution_count": 17
        }
      ]
    },
    {
      "cell_type": "code",
      "source": [
        "# Alle GBFS Feeds als Dataframe laden\n",
        "id = [s['id'] for s in feeds['systems']]\n",
        "url = [s['url'] for s in feeds['systems']]\n",
        "gbfsfeeds = pd.DataFrame(list(zip(id, url)),columns =['provider', 'gbfsurl'])\n",
        "gbfsfeeds"
      ],
      "metadata": {
        "colab": {
          "base_uri": "https://localhost:8080/",
          "height": 1000
        },
        "id": "fLULbN72IAC1",
        "outputId": "25414ee0-f6f4-481a-a779-b19ba5ce0b00"
      },
      "id": "fLULbN72IAC1",
      "execution_count": 25,
      "outputs": [
        {
          "output_type": "execute_result",
          "data": {
            "text/plain": [
              "                                 provider  \\\n",
              "0                             donkey_thun   \n",
              "1                               sponticar   \n",
              "2                              carvelo2go   \n",
              "3                             bird-kloten   \n",
              "4                         lime_winterthur   \n",
              "5                            lime_opfikon   \n",
              "6                             bolt_zurich   \n",
              "7    bird-platform-partner-jmfleets-bulle   \n",
              "8                         pickebike_basel   \n",
              "9                        donkey_neuchatel   \n",
              "10                             lime_uster   \n",
              "11                            nextbike_ch   \n",
              "12                      pickebike_aubonne   \n",
              "13                             lime_basel   \n",
              "14                          lime_wetzikon   \n",
              "15                             bird-basel   \n",
              "16                        donkey_freiburg   \n",
              "17                     donkey_kreuzlingen   \n",
              "18                     pickebike_fribourg   \n",
              "19                              donkey_ge   \n",
              "20                              donkey_li   \n",
              "21  bird-platform-partner-jmfleetswl-biel   \n",
              "22                            bird-zurich   \n",
              "23                        donkey_le_locle   \n",
              "24                            donkey_sion   \n",
              "25                        share_birrer_ch   \n",
              "26               donkey_yverdon-les-bains   \n",
              "27                               velospot   \n",
              "28                               2em_cars   \n",
              "29                               mobility   \n",
              "30                       edrivecarsharing   \n",
              "\n",
              "                                              gbfsurl  \n",
              "0   https://gbfs.prod.sharedmobility.ch/v2/gbfs/do...  \n",
              "1   https://gbfs.prod.sharedmobility.ch/v2/gbfs/sp...  \n",
              "2   https://gbfs.prod.sharedmobility.ch/v2/gbfs/ca...  \n",
              "3   https://gbfs.prod.sharedmobility.ch/v2/gbfs/bi...  \n",
              "4   https://gbfs.prod.sharedmobility.ch/v2/gbfs/li...  \n",
              "5   https://gbfs.prod.sharedmobility.ch/v2/gbfs/li...  \n",
              "6   https://gbfs.prod.sharedmobility.ch/v2/gbfs/bo...  \n",
              "7   https://gbfs.prod.sharedmobility.ch/v2/gbfs/bi...  \n",
              "8   https://gbfs.prod.sharedmobility.ch/v2/gbfs/pi...  \n",
              "9   https://gbfs.prod.sharedmobility.ch/v2/gbfs/do...  \n",
              "10  https://gbfs.prod.sharedmobility.ch/v2/gbfs/li...  \n",
              "11  https://gbfs.prod.sharedmobility.ch/v2/gbfs/ne...  \n",
              "12  https://gbfs.prod.sharedmobility.ch/v2/gbfs/pi...  \n",
              "13  https://gbfs.prod.sharedmobility.ch/v2/gbfs/li...  \n",
              "14  https://gbfs.prod.sharedmobility.ch/v2/gbfs/li...  \n",
              "15  https://gbfs.prod.sharedmobility.ch/v2/gbfs/bi...  \n",
              "16  https://gbfs.prod.sharedmobility.ch/v2/gbfs/do...  \n",
              "17  https://gbfs.prod.sharedmobility.ch/v2/gbfs/do...  \n",
              "18  https://gbfs.prod.sharedmobility.ch/v2/gbfs/pi...  \n",
              "19  https://gbfs.prod.sharedmobility.ch/v2/gbfs/do...  \n",
              "20  https://gbfs.prod.sharedmobility.ch/v2/gbfs/do...  \n",
              "21  https://gbfs.prod.sharedmobility.ch/v2/gbfs/bi...  \n",
              "22  https://gbfs.prod.sharedmobility.ch/v2/gbfs/bi...  \n",
              "23  https://gbfs.prod.sharedmobility.ch/v2/gbfs/do...  \n",
              "24  https://gbfs.prod.sharedmobility.ch/v2/gbfs/do...  \n",
              "25  https://gbfs.prod.sharedmobility.ch/v2/gbfs/sh...  \n",
              "26  https://gbfs.prod.sharedmobility.ch/v2/gbfs/do...  \n",
              "27  https://gbfs.prod.sharedmobility.ch/v2/gbfs/ve...  \n",
              "28  https://gbfs.prod.sharedmobility.ch/v2/gbfs/2e...  \n",
              "29  https://gbfs.prod.sharedmobility.ch/v2/gbfs/mo...  \n",
              "30  https://gbfs.prod.sharedmobility.ch/v2/gbfs/ed...  "
            ],
            "text/html": [
              "\n",
              "\n",
              "  <div id=\"df-79b7290a-cab1-4b13-889f-d674f36c7776\">\n",
              "    <div class=\"colab-df-container\">\n",
              "      <div>\n",
              "<style scoped>\n",
              "    .dataframe tbody tr th:only-of-type {\n",
              "        vertical-align: middle;\n",
              "    }\n",
              "\n",
              "    .dataframe tbody tr th {\n",
              "        vertical-align: top;\n",
              "    }\n",
              "\n",
              "    .dataframe thead th {\n",
              "        text-align: right;\n",
              "    }\n",
              "</style>\n",
              "<table border=\"1\" class=\"dataframe\">\n",
              "  <thead>\n",
              "    <tr style=\"text-align: right;\">\n",
              "      <th></th>\n",
              "      <th>provider</th>\n",
              "      <th>gbfsurl</th>\n",
              "    </tr>\n",
              "  </thead>\n",
              "  <tbody>\n",
              "    <tr>\n",
              "      <th>0</th>\n",
              "      <td>donkey_thun</td>\n",
              "      <td>https://gbfs.prod.sharedmobility.ch/v2/gbfs/do...</td>\n",
              "    </tr>\n",
              "    <tr>\n",
              "      <th>1</th>\n",
              "      <td>sponticar</td>\n",
              "      <td>https://gbfs.prod.sharedmobility.ch/v2/gbfs/sp...</td>\n",
              "    </tr>\n",
              "    <tr>\n",
              "      <th>2</th>\n",
              "      <td>carvelo2go</td>\n",
              "      <td>https://gbfs.prod.sharedmobility.ch/v2/gbfs/ca...</td>\n",
              "    </tr>\n",
              "    <tr>\n",
              "      <th>3</th>\n",
              "      <td>bird-kloten</td>\n",
              "      <td>https://gbfs.prod.sharedmobility.ch/v2/gbfs/bi...</td>\n",
              "    </tr>\n",
              "    <tr>\n",
              "      <th>4</th>\n",
              "      <td>lime_winterthur</td>\n",
              "      <td>https://gbfs.prod.sharedmobility.ch/v2/gbfs/li...</td>\n",
              "    </tr>\n",
              "    <tr>\n",
              "      <th>5</th>\n",
              "      <td>lime_opfikon</td>\n",
              "      <td>https://gbfs.prod.sharedmobility.ch/v2/gbfs/li...</td>\n",
              "    </tr>\n",
              "    <tr>\n",
              "      <th>6</th>\n",
              "      <td>bolt_zurich</td>\n",
              "      <td>https://gbfs.prod.sharedmobility.ch/v2/gbfs/bo...</td>\n",
              "    </tr>\n",
              "    <tr>\n",
              "      <th>7</th>\n",
              "      <td>bird-platform-partner-jmfleets-bulle</td>\n",
              "      <td>https://gbfs.prod.sharedmobility.ch/v2/gbfs/bi...</td>\n",
              "    </tr>\n",
              "    <tr>\n",
              "      <th>8</th>\n",
              "      <td>pickebike_basel</td>\n",
              "      <td>https://gbfs.prod.sharedmobility.ch/v2/gbfs/pi...</td>\n",
              "    </tr>\n",
              "    <tr>\n",
              "      <th>9</th>\n",
              "      <td>donkey_neuchatel</td>\n",
              "      <td>https://gbfs.prod.sharedmobility.ch/v2/gbfs/do...</td>\n",
              "    </tr>\n",
              "    <tr>\n",
              "      <th>10</th>\n",
              "      <td>lime_uster</td>\n",
              "      <td>https://gbfs.prod.sharedmobility.ch/v2/gbfs/li...</td>\n",
              "    </tr>\n",
              "    <tr>\n",
              "      <th>11</th>\n",
              "      <td>nextbike_ch</td>\n",
              "      <td>https://gbfs.prod.sharedmobility.ch/v2/gbfs/ne...</td>\n",
              "    </tr>\n",
              "    <tr>\n",
              "      <th>12</th>\n",
              "      <td>pickebike_aubonne</td>\n",
              "      <td>https://gbfs.prod.sharedmobility.ch/v2/gbfs/pi...</td>\n",
              "    </tr>\n",
              "    <tr>\n",
              "      <th>13</th>\n",
              "      <td>lime_basel</td>\n",
              "      <td>https://gbfs.prod.sharedmobility.ch/v2/gbfs/li...</td>\n",
              "    </tr>\n",
              "    <tr>\n",
              "      <th>14</th>\n",
              "      <td>lime_wetzikon</td>\n",
              "      <td>https://gbfs.prod.sharedmobility.ch/v2/gbfs/li...</td>\n",
              "    </tr>\n",
              "    <tr>\n",
              "      <th>15</th>\n",
              "      <td>bird-basel</td>\n",
              "      <td>https://gbfs.prod.sharedmobility.ch/v2/gbfs/bi...</td>\n",
              "    </tr>\n",
              "    <tr>\n",
              "      <th>16</th>\n",
              "      <td>donkey_freiburg</td>\n",
              "      <td>https://gbfs.prod.sharedmobility.ch/v2/gbfs/do...</td>\n",
              "    </tr>\n",
              "    <tr>\n",
              "      <th>17</th>\n",
              "      <td>donkey_kreuzlingen</td>\n",
              "      <td>https://gbfs.prod.sharedmobility.ch/v2/gbfs/do...</td>\n",
              "    </tr>\n",
              "    <tr>\n",
              "      <th>18</th>\n",
              "      <td>pickebike_fribourg</td>\n",
              "      <td>https://gbfs.prod.sharedmobility.ch/v2/gbfs/pi...</td>\n",
              "    </tr>\n",
              "    <tr>\n",
              "      <th>19</th>\n",
              "      <td>donkey_ge</td>\n",
              "      <td>https://gbfs.prod.sharedmobility.ch/v2/gbfs/do...</td>\n",
              "    </tr>\n",
              "    <tr>\n",
              "      <th>20</th>\n",
              "      <td>donkey_li</td>\n",
              "      <td>https://gbfs.prod.sharedmobility.ch/v2/gbfs/do...</td>\n",
              "    </tr>\n",
              "    <tr>\n",
              "      <th>21</th>\n",
              "      <td>bird-platform-partner-jmfleetswl-biel</td>\n",
              "      <td>https://gbfs.prod.sharedmobility.ch/v2/gbfs/bi...</td>\n",
              "    </tr>\n",
              "    <tr>\n",
              "      <th>22</th>\n",
              "      <td>bird-zurich</td>\n",
              "      <td>https://gbfs.prod.sharedmobility.ch/v2/gbfs/bi...</td>\n",
              "    </tr>\n",
              "    <tr>\n",
              "      <th>23</th>\n",
              "      <td>donkey_le_locle</td>\n",
              "      <td>https://gbfs.prod.sharedmobility.ch/v2/gbfs/do...</td>\n",
              "    </tr>\n",
              "    <tr>\n",
              "      <th>24</th>\n",
              "      <td>donkey_sion</td>\n",
              "      <td>https://gbfs.prod.sharedmobility.ch/v2/gbfs/do...</td>\n",
              "    </tr>\n",
              "    <tr>\n",
              "      <th>25</th>\n",
              "      <td>share_birrer_ch</td>\n",
              "      <td>https://gbfs.prod.sharedmobility.ch/v2/gbfs/sh...</td>\n",
              "    </tr>\n",
              "    <tr>\n",
              "      <th>26</th>\n",
              "      <td>donkey_yverdon-les-bains</td>\n",
              "      <td>https://gbfs.prod.sharedmobility.ch/v2/gbfs/do...</td>\n",
              "    </tr>\n",
              "    <tr>\n",
              "      <th>27</th>\n",
              "      <td>velospot</td>\n",
              "      <td>https://gbfs.prod.sharedmobility.ch/v2/gbfs/ve...</td>\n",
              "    </tr>\n",
              "    <tr>\n",
              "      <th>28</th>\n",
              "      <td>2em_cars</td>\n",
              "      <td>https://gbfs.prod.sharedmobility.ch/v2/gbfs/2e...</td>\n",
              "    </tr>\n",
              "    <tr>\n",
              "      <th>29</th>\n",
              "      <td>mobility</td>\n",
              "      <td>https://gbfs.prod.sharedmobility.ch/v2/gbfs/mo...</td>\n",
              "    </tr>\n",
              "    <tr>\n",
              "      <th>30</th>\n",
              "      <td>edrivecarsharing</td>\n",
              "      <td>https://gbfs.prod.sharedmobility.ch/v2/gbfs/ed...</td>\n",
              "    </tr>\n",
              "  </tbody>\n",
              "</table>\n",
              "</div>\n",
              "      <button class=\"colab-df-convert\" onclick=\"convertToInteractive('df-79b7290a-cab1-4b13-889f-d674f36c7776')\"\n",
              "              title=\"Convert this dataframe to an interactive table.\"\n",
              "              style=\"display:none;\">\n",
              "\n",
              "  <svg xmlns=\"http://www.w3.org/2000/svg\" height=\"24px\"viewBox=\"0 0 24 24\"\n",
              "       width=\"24px\">\n",
              "    <path d=\"M0 0h24v24H0V0z\" fill=\"none\"/>\n",
              "    <path d=\"M18.56 5.44l.94 2.06.94-2.06 2.06-.94-2.06-.94-.94-2.06-.94 2.06-2.06.94zm-11 1L8.5 8.5l.94-2.06 2.06-.94-2.06-.94L8.5 2.5l-.94 2.06-2.06.94zm10 10l.94 2.06.94-2.06 2.06-.94-2.06-.94-.94-2.06-.94 2.06-2.06.94z\"/><path d=\"M17.41 7.96l-1.37-1.37c-.4-.4-.92-.59-1.43-.59-.52 0-1.04.2-1.43.59L10.3 9.45l-7.72 7.72c-.78.78-.78 2.05 0 2.83L4 21.41c.39.39.9.59 1.41.59.51 0 1.02-.2 1.41-.59l7.78-7.78 2.81-2.81c.8-.78.8-2.07 0-2.86zM5.41 20L4 18.59l7.72-7.72 1.47 1.35L5.41 20z\"/>\n",
              "  </svg>\n",
              "      </button>\n",
              "\n",
              "\n",
              "\n",
              "    <div id=\"df-b0b833bc-35e8-429e-80f3-e9818c6c3f80\">\n",
              "      <button class=\"colab-df-quickchart\" onclick=\"quickchart('df-b0b833bc-35e8-429e-80f3-e9818c6c3f80')\"\n",
              "              title=\"Suggest charts.\"\n",
              "              style=\"display:none;\">\n",
              "\n",
              "<svg xmlns=\"http://www.w3.org/2000/svg\" height=\"24px\"viewBox=\"0 0 24 24\"\n",
              "     width=\"24px\">\n",
              "    <g>\n",
              "        <path d=\"M19 3H5c-1.1 0-2 .9-2 2v14c0 1.1.9 2 2 2h14c1.1 0 2-.9 2-2V5c0-1.1-.9-2-2-2zM9 17H7v-7h2v7zm4 0h-2V7h2v10zm4 0h-2v-4h2v4z\"/>\n",
              "    </g>\n",
              "</svg>\n",
              "      </button>\n",
              "    </div>\n",
              "\n",
              "<style>\n",
              "  .colab-df-quickchart {\n",
              "    background-color: #E8F0FE;\n",
              "    border: none;\n",
              "    border-radius: 50%;\n",
              "    cursor: pointer;\n",
              "    display: none;\n",
              "    fill: #1967D2;\n",
              "    height: 32px;\n",
              "    padding: 0 0 0 0;\n",
              "    width: 32px;\n",
              "  }\n",
              "\n",
              "  .colab-df-quickchart:hover {\n",
              "    background-color: #E2EBFA;\n",
              "    box-shadow: 0px 1px 2px rgba(60, 64, 67, 0.3), 0px 1px 3px 1px rgba(60, 64, 67, 0.15);\n",
              "    fill: #174EA6;\n",
              "  }\n",
              "\n",
              "  [theme=dark] .colab-df-quickchart {\n",
              "    background-color: #3B4455;\n",
              "    fill: #D2E3FC;\n",
              "  }\n",
              "\n",
              "  [theme=dark] .colab-df-quickchart:hover {\n",
              "    background-color: #434B5C;\n",
              "    box-shadow: 0px 1px 3px 1px rgba(0, 0, 0, 0.15);\n",
              "    filter: drop-shadow(0px 1px 2px rgba(0, 0, 0, 0.3));\n",
              "    fill: #FFFFFF;\n",
              "  }\n",
              "</style>\n",
              "\n",
              "    <script>\n",
              "      async function quickchart(key) {\n",
              "        const containerElement = document.querySelector('#' + key);\n",
              "        const charts = await google.colab.kernel.invokeFunction(\n",
              "            'suggestCharts', [key], {});\n",
              "      }\n",
              "    </script>\n",
              "\n",
              "      <script>\n",
              "\n",
              "function displayQuickchartButton(domScope) {\n",
              "  let quickchartButtonEl =\n",
              "    domScope.querySelector('#df-b0b833bc-35e8-429e-80f3-e9818c6c3f80 button.colab-df-quickchart');\n",
              "  quickchartButtonEl.style.display =\n",
              "    google.colab.kernel.accessAllowed ? 'block' : 'none';\n",
              "}\n",
              "\n",
              "        displayQuickchartButton(document);\n",
              "      </script>\n",
              "      <style>\n",
              "    .colab-df-container {\n",
              "      display:flex;\n",
              "      flex-wrap:wrap;\n",
              "      gap: 12px;\n",
              "    }\n",
              "\n",
              "    .colab-df-convert {\n",
              "      background-color: #E8F0FE;\n",
              "      border: none;\n",
              "      border-radius: 50%;\n",
              "      cursor: pointer;\n",
              "      display: none;\n",
              "      fill: #1967D2;\n",
              "      height: 32px;\n",
              "      padding: 0 0 0 0;\n",
              "      width: 32px;\n",
              "    }\n",
              "\n",
              "    .colab-df-convert:hover {\n",
              "      background-color: #E2EBFA;\n",
              "      box-shadow: 0px 1px 2px rgba(60, 64, 67, 0.3), 0px 1px 3px 1px rgba(60, 64, 67, 0.15);\n",
              "      fill: #174EA6;\n",
              "    }\n",
              "\n",
              "    [theme=dark] .colab-df-convert {\n",
              "      background-color: #3B4455;\n",
              "      fill: #D2E3FC;\n",
              "    }\n",
              "\n",
              "    [theme=dark] .colab-df-convert:hover {\n",
              "      background-color: #434B5C;\n",
              "      box-shadow: 0px 1px 3px 1px rgba(0, 0, 0, 0.15);\n",
              "      filter: drop-shadow(0px 1px 2px rgba(0, 0, 0, 0.3));\n",
              "      fill: #FFFFFF;\n",
              "    }\n",
              "  </style>\n",
              "\n",
              "      <script>\n",
              "        const buttonEl =\n",
              "          document.querySelector('#df-79b7290a-cab1-4b13-889f-d674f36c7776 button.colab-df-convert');\n",
              "        buttonEl.style.display =\n",
              "          google.colab.kernel.accessAllowed ? 'block' : 'none';\n",
              "\n",
              "        async function convertToInteractive(key) {\n",
              "          const element = document.querySelector('#df-79b7290a-cab1-4b13-889f-d674f36c7776');\n",
              "          const dataTable =\n",
              "            await google.colab.kernel.invokeFunction('convertToInteractive',\n",
              "                                                     [key], {});\n",
              "          if (!dataTable) return;\n",
              "\n",
              "          const docLinkHtml = 'Like what you see? Visit the ' +\n",
              "            '<a target=\"_blank\" href=https://colab.research.google.com/notebooks/data_table.ipynb>data table notebook</a>'\n",
              "            + ' to learn more about interactive tables.';\n",
              "          element.innerHTML = '';\n",
              "          dataTable['output_type'] = 'display_data';\n",
              "          await google.colab.output.renderOutput(dataTable, element);\n",
              "          const docLink = document.createElement('div');\n",
              "          docLink.innerHTML = docLinkHtml;\n",
              "          element.appendChild(docLink);\n",
              "        }\n",
              "      </script>\n",
              "    </div>\n",
              "  </div>\n"
            ]
          },
          "metadata": {},
          "execution_count": 25
        }
      ]
    },
    {
      "cell_type": "markdown",
      "source": [
        "## Auswertung pro Provider"
      ],
      "metadata": {
        "id": "IdaiXxWWSFUM"
      },
      "id": "IdaiXxWWSFUM"
    },
    {
      "cell_type": "code",
      "source": [
        "providers = ['donkey_thun', 'edrivecarsharing']\n",
        "providers"
      ],
      "metadata": {
        "id": "WrBB_R9FS3UJ",
        "outputId": "546bf8d6-4167-4364-d901-2642cc6aa621",
        "colab": {
          "base_uri": "https://localhost:8080/"
        }
      },
      "id": "WrBB_R9FS3UJ",
      "execution_count": 87,
      "outputs": [
        {
          "output_type": "execute_result",
          "data": {
            "text/plain": [
              "['donkey_thun', 'edrivecarsharing']"
            ]
          },
          "metadata": {},
          "execution_count": 87
        }
      ]
    },
    {
      "cell_type": "code",
      "source": [
        "# Auswertung stattion_status.json\n",
        "stationstatus = requests.get('https://gbfs.prod.sharedmobility.ch/v2/gbfs/nextbike_ch/station_status').json()\n",
        "stationstatus = [s['num_bikes_available'] for s in stationstatus['data']['stations']]\n",
        "VehiclesInStation =sum(stationstatus)\n",
        "NumberOfStations = len(stationstatus)\n",
        "\n",
        "# Auswertung free_bike_status.json\n",
        "freebikesstatus = requests.get('https://gbfs.prod.sharedmobility.ch/v2/gbfs/nextbike_ch/free_bike_status').json()\n",
        "freebikesstatus = [s['bike_id'] for s in freebikesstatus['data']['bikes']]\n",
        "FreeBikes = len(freebikesstatus)"
      ],
      "metadata": {
        "id": "9oH97x-uIk7H"
      },
      "id": "9oH97x-uIk7H",
      "execution_count": 59,
      "outputs": []
    },
    {
      "cell_type": "code",
      "source": [
        "FreeBikes"
      ],
      "metadata": {
        "id": "2O0a38uRR-oT",
        "outputId": "2532666b-2d86-4f71-99b0-bfad56d56e95",
        "colab": {
          "base_uri": "https://localhost:8080/"
        }
      },
      "id": "2O0a38uRR-oT",
      "execution_count": 60,
      "outputs": [
        {
          "output_type": "execute_result",
          "data": {
            "text/plain": [
              "974"
            ]
          },
          "metadata": {},
          "execution_count": 60
        }
      ]
    },
    {
      "cell_type": "code",
      "source": [
        "for provider in providers:\n",
        "  print('https://gbfs.prod.sharedmobility.ch/v2/gbfs/' + provider +'/station_status')\n",
        "\n",
        "\n",
        "\n",
        "  # Auswertung station_status.json\n",
        "  stationstatus = requests.get('https://gbfs.prod.sharedmobility.ch/v2/gbfs/' + provider +'/station_status').json()\n",
        "  stationstatus = [s['num_bikes_available'] for s in stationstatus['data']['stations']]\n",
        "  VehiclesInStation =sum(stationstatus)\n",
        "  NumberOfStations = len(stationstatus)\n"
      ],
      "metadata": {
        "id": "HubROzb-MJMa",
        "outputId": "d224dd14-6dc3-42e9-ff6c-e112c062bd43",
        "colab": {
          "base_uri": "https://localhost:8080/",
          "height": 432
        }
      },
      "id": "HubROzb-MJMa",
      "execution_count": 63,
      "outputs": [
        {
          "output_type": "error",
          "ename": "JSONDecodeError",
          "evalue": "ignored",
          "traceback": [
            "\u001b[0;31m---------------------------------------------------------------------------\u001b[0m",
            "\u001b[0;31mJSONDecodeError\u001b[0m                           Traceback (most recent call last)",
            "\u001b[0;32m/usr/local/lib/python3.10/dist-packages/requests/models.py\u001b[0m in \u001b[0;36mjson\u001b[0;34m(self, **kwargs)\u001b[0m\n\u001b[1;32m    909\u001b[0m         \u001b[0;32mtry\u001b[0m\u001b[0;34m:\u001b[0m\u001b[0;34m\u001b[0m\u001b[0;34m\u001b[0m\u001b[0m\n\u001b[0;32m--> 910\u001b[0;31m             \u001b[0;32mreturn\u001b[0m \u001b[0mcomplexjson\u001b[0m\u001b[0;34m.\u001b[0m\u001b[0mloads\u001b[0m\u001b[0;34m(\u001b[0m\u001b[0mself\u001b[0m\u001b[0;34m.\u001b[0m\u001b[0mtext\u001b[0m\u001b[0;34m,\u001b[0m \u001b[0;34m**\u001b[0m\u001b[0mkwargs\u001b[0m\u001b[0;34m)\u001b[0m\u001b[0;34m\u001b[0m\u001b[0;34m\u001b[0m\u001b[0m\n\u001b[0m\u001b[1;32m    911\u001b[0m         \u001b[0;32mexcept\u001b[0m \u001b[0mJSONDecodeError\u001b[0m \u001b[0;32mas\u001b[0m \u001b[0me\u001b[0m\u001b[0;34m:\u001b[0m\u001b[0;34m\u001b[0m\u001b[0;34m\u001b[0m\u001b[0m\n",
            "\u001b[0;32m/usr/lib/python3.10/json/__init__.py\u001b[0m in \u001b[0;36mloads\u001b[0;34m(s, cls, object_hook, parse_float, parse_int, parse_constant, object_pairs_hook, **kw)\u001b[0m\n\u001b[1;32m    345\u001b[0m             parse_constant is None and object_pairs_hook is None and not kw):\n\u001b[0;32m--> 346\u001b[0;31m         \u001b[0;32mreturn\u001b[0m \u001b[0m_default_decoder\u001b[0m\u001b[0;34m.\u001b[0m\u001b[0mdecode\u001b[0m\u001b[0;34m(\u001b[0m\u001b[0ms\u001b[0m\u001b[0;34m)\u001b[0m\u001b[0;34m\u001b[0m\u001b[0;34m\u001b[0m\u001b[0m\n\u001b[0m\u001b[1;32m    347\u001b[0m     \u001b[0;32mif\u001b[0m \u001b[0mcls\u001b[0m \u001b[0;32mis\u001b[0m \u001b[0;32mNone\u001b[0m\u001b[0;34m:\u001b[0m\u001b[0;34m\u001b[0m\u001b[0;34m\u001b[0m\u001b[0m\n",
            "\u001b[0;32m/usr/lib/python3.10/json/decoder.py\u001b[0m in \u001b[0;36mdecode\u001b[0;34m(self, s, _w)\u001b[0m\n\u001b[1;32m    336\u001b[0m         \"\"\"\n\u001b[0;32m--> 337\u001b[0;31m         \u001b[0mobj\u001b[0m\u001b[0;34m,\u001b[0m \u001b[0mend\u001b[0m \u001b[0;34m=\u001b[0m \u001b[0mself\u001b[0m\u001b[0;34m.\u001b[0m\u001b[0mraw_decode\u001b[0m\u001b[0;34m(\u001b[0m\u001b[0ms\u001b[0m\u001b[0;34m,\u001b[0m \u001b[0midx\u001b[0m\u001b[0;34m=\u001b[0m\u001b[0m_w\u001b[0m\u001b[0;34m(\u001b[0m\u001b[0ms\u001b[0m\u001b[0;34m,\u001b[0m \u001b[0;36m0\u001b[0m\u001b[0;34m)\u001b[0m\u001b[0;34m.\u001b[0m\u001b[0mend\u001b[0m\u001b[0;34m(\u001b[0m\u001b[0;34m)\u001b[0m\u001b[0;34m)\u001b[0m\u001b[0;34m\u001b[0m\u001b[0;34m\u001b[0m\u001b[0m\n\u001b[0m\u001b[1;32m    338\u001b[0m         \u001b[0mend\u001b[0m \u001b[0;34m=\u001b[0m \u001b[0m_w\u001b[0m\u001b[0;34m(\u001b[0m\u001b[0ms\u001b[0m\u001b[0;34m,\u001b[0m \u001b[0mend\u001b[0m\u001b[0;34m)\u001b[0m\u001b[0;34m.\u001b[0m\u001b[0mend\u001b[0m\u001b[0;34m(\u001b[0m\u001b[0;34m)\u001b[0m\u001b[0;34m\u001b[0m\u001b[0;34m\u001b[0m\u001b[0m\n",
            "\u001b[0;32m/usr/lib/python3.10/json/decoder.py\u001b[0m in \u001b[0;36mraw_decode\u001b[0;34m(self, s, idx)\u001b[0m\n\u001b[1;32m    354\u001b[0m         \u001b[0;32mexcept\u001b[0m \u001b[0mStopIteration\u001b[0m \u001b[0;32mas\u001b[0m \u001b[0merr\u001b[0m\u001b[0;34m:\u001b[0m\u001b[0;34m\u001b[0m\u001b[0;34m\u001b[0m\u001b[0m\n\u001b[0;32m--> 355\u001b[0;31m             \u001b[0;32mraise\u001b[0m \u001b[0mJSONDecodeError\u001b[0m\u001b[0;34m(\u001b[0m\u001b[0;34m\"Expecting value\"\u001b[0m\u001b[0;34m,\u001b[0m \u001b[0ms\u001b[0m\u001b[0;34m,\u001b[0m \u001b[0merr\u001b[0m\u001b[0;34m.\u001b[0m\u001b[0mvalue\u001b[0m\u001b[0;34m)\u001b[0m \u001b[0;32mfrom\u001b[0m \u001b[0;32mNone\u001b[0m\u001b[0;34m\u001b[0m\u001b[0;34m\u001b[0m\u001b[0m\n\u001b[0m\u001b[1;32m    356\u001b[0m         \u001b[0;32mreturn\u001b[0m \u001b[0mobj\u001b[0m\u001b[0;34m,\u001b[0m \u001b[0mend\u001b[0m\u001b[0;34m\u001b[0m\u001b[0;34m\u001b[0m\u001b[0m\n",
            "\u001b[0;31mJSONDecodeError\u001b[0m: Expecting value: line 1 column 1 (char 0)",
            "\nDuring handling of the above exception, another exception occurred:\n",
            "\u001b[0;31mJSONDecodeError\u001b[0m                           Traceback (most recent call last)",
            "\u001b[0;32m<ipython-input-63-ad49e2807a1b>\u001b[0m in \u001b[0;36m<cell line: 1>\u001b[0;34m()\u001b[0m\n\u001b[1;32m      1\u001b[0m \u001b[0;32mfor\u001b[0m \u001b[0mprovider\u001b[0m \u001b[0;32min\u001b[0m \u001b[0mproviders\u001b[0m\u001b[0;34m:\u001b[0m\u001b[0;34m\u001b[0m\u001b[0;34m\u001b[0m\u001b[0m\n\u001b[1;32m      2\u001b[0m   \u001b[0;31m# Auswertung stattion_status.json\u001b[0m\u001b[0;34m\u001b[0m\u001b[0;34m\u001b[0m\u001b[0m\n\u001b[0;32m----> 3\u001b[0;31m   \u001b[0mstationstatus\u001b[0m \u001b[0;34m=\u001b[0m \u001b[0mrequests\u001b[0m\u001b[0;34m.\u001b[0m\u001b[0mget\u001b[0m\u001b[0;34m(\u001b[0m\u001b[0;34m'https://gbfs.prod.sharedmobility.ch/v2/gbfs/'\u001b[0m \u001b[0;34m+\u001b[0m \u001b[0mprovider\u001b[0m \u001b[0;34m+\u001b[0m\u001b[0;34m'/station_status'\u001b[0m\u001b[0;34m)\u001b[0m\u001b[0;34m.\u001b[0m\u001b[0mjson\u001b[0m\u001b[0;34m(\u001b[0m\u001b[0;34m)\u001b[0m\u001b[0;34m\u001b[0m\u001b[0;34m\u001b[0m\u001b[0m\n\u001b[0m\u001b[1;32m      4\u001b[0m   \u001b[0mstationstatus\u001b[0m \u001b[0;34m=\u001b[0m \u001b[0;34m[\u001b[0m\u001b[0ms\u001b[0m\u001b[0;34m[\u001b[0m\u001b[0;34m'num_bikes_available'\u001b[0m\u001b[0;34m]\u001b[0m \u001b[0;32mfor\u001b[0m \u001b[0ms\u001b[0m \u001b[0;32min\u001b[0m \u001b[0mstationstatus\u001b[0m\u001b[0;34m[\u001b[0m\u001b[0;34m'data'\u001b[0m\u001b[0;34m]\u001b[0m\u001b[0;34m[\u001b[0m\u001b[0;34m'stations'\u001b[0m\u001b[0;34m]\u001b[0m\u001b[0;34m]\u001b[0m\u001b[0;34m\u001b[0m\u001b[0;34m\u001b[0m\u001b[0m\n\u001b[1;32m      5\u001b[0m   \u001b[0mVehiclesInStation\u001b[0m \u001b[0;34m=\u001b[0m\u001b[0msum\u001b[0m\u001b[0;34m(\u001b[0m\u001b[0mstationstatus\u001b[0m\u001b[0;34m)\u001b[0m\u001b[0;34m\u001b[0m\u001b[0;34m\u001b[0m\u001b[0m\n",
            "\u001b[0;32m/usr/local/lib/python3.10/dist-packages/requests/models.py\u001b[0m in \u001b[0;36mjson\u001b[0;34m(self, **kwargs)\u001b[0m\n\u001b[1;32m    915\u001b[0m                 \u001b[0;32mraise\u001b[0m \u001b[0mRequestsJSONDecodeError\u001b[0m\u001b[0;34m(\u001b[0m\u001b[0me\u001b[0m\u001b[0;34m.\u001b[0m\u001b[0mmessage\u001b[0m\u001b[0;34m)\u001b[0m\u001b[0;34m\u001b[0m\u001b[0;34m\u001b[0m\u001b[0m\n\u001b[1;32m    916\u001b[0m             \u001b[0;32melse\u001b[0m\u001b[0;34m:\u001b[0m\u001b[0;34m\u001b[0m\u001b[0;34m\u001b[0m\u001b[0m\n\u001b[0;32m--> 917\u001b[0;31m                 \u001b[0;32mraise\u001b[0m \u001b[0mRequestsJSONDecodeError\u001b[0m\u001b[0;34m(\u001b[0m\u001b[0me\u001b[0m\u001b[0;34m.\u001b[0m\u001b[0mmsg\u001b[0m\u001b[0;34m,\u001b[0m \u001b[0me\u001b[0m\u001b[0;34m.\u001b[0m\u001b[0mdoc\u001b[0m\u001b[0;34m,\u001b[0m \u001b[0me\u001b[0m\u001b[0;34m.\u001b[0m\u001b[0mpos\u001b[0m\u001b[0;34m)\u001b[0m\u001b[0;34m\u001b[0m\u001b[0;34m\u001b[0m\u001b[0m\n\u001b[0m\u001b[1;32m    918\u001b[0m \u001b[0;34m\u001b[0m\u001b[0m\n\u001b[1;32m    919\u001b[0m     \u001b[0;34m@\u001b[0m\u001b[0mproperty\u001b[0m\u001b[0;34m\u001b[0m\u001b[0;34m\u001b[0m\u001b[0m\n",
            "\u001b[0;31mJSONDecodeError\u001b[0m: [Errno Expecting value] io.vertx.core.json.JsonArray cannot be cast to io.vertx.core.json.JsonObject: 0"
          ]
        }
      ]
    },
    {
      "cell_type": "code",
      "source": [
        "providers"
      ],
      "metadata": {
        "id": "oaEBgfWxVpQW",
        "outputId": "b5dafc84-1341-49d0-bc8d-7d810ad4783f",
        "colab": {
          "base_uri": "https://localhost:8080/"
        }
      },
      "id": "oaEBgfWxVpQW",
      "execution_count": 70,
      "outputs": [
        {
          "output_type": "execute_result",
          "data": {
            "text/plain": [
              "['donkey_thun', 'edrivecarsharing']"
            ]
          },
          "metadata": {},
          "execution_count": 70
        }
      ]
    },
    {
      "cell_type": "code",
      "source": [
        "d = pd.DataFrame()\n",
        "\n",
        "for provider in providers:\n",
        "    temp = pd.DataFrame(\n",
        "        {\n",
        "            'name': providers['providername'],\n",
        "            'Url': 'https://gbfs.prod.sharedmobility.ch/v2/gbfs/' + providers['providername'] +'/station_status'\n",
        "        }\n",
        "    )\n",
        "\n",
        "    d = pd.concat([d, temp])\n",
        "d"
      ],
      "metadata": {
        "id": "NHvPuOolOymX",
        "outputId": "a89e732e-f8ab-4c43-dc92-97f6b8c19116",
        "colab": {
          "base_uri": "https://localhost:8080/",
          "height": 112
        }
      },
      "id": "NHvPuOolOymX",
      "execution_count": 86,
      "outputs": [
        {
          "output_type": "execute_result",
          "data": {
            "text/plain": [
              "               name                                                Url\n",
              "0       donkey_thun  https://gbfs.prod.sharedmobility.ch/v2/gbfs/do...\n",
              "1  edrivecarsharing  https://gbfs.prod.sharedmobility.ch/v2/gbfs/ed..."
            ],
            "text/html": [
              "\n",
              "\n",
              "  <div id=\"df-222a22d3-fbbb-4f64-b527-5082ecf1a12f\">\n",
              "    <div class=\"colab-df-container\">\n",
              "      <div>\n",
              "<style scoped>\n",
              "    .dataframe tbody tr th:only-of-type {\n",
              "        vertical-align: middle;\n",
              "    }\n",
              "\n",
              "    .dataframe tbody tr th {\n",
              "        vertical-align: top;\n",
              "    }\n",
              "\n",
              "    .dataframe thead th {\n",
              "        text-align: right;\n",
              "    }\n",
              "</style>\n",
              "<table border=\"1\" class=\"dataframe\">\n",
              "  <thead>\n",
              "    <tr style=\"text-align: right;\">\n",
              "      <th></th>\n",
              "      <th>name</th>\n",
              "      <th>Url</th>\n",
              "    </tr>\n",
              "  </thead>\n",
              "  <tbody>\n",
              "    <tr>\n",
              "      <th>0</th>\n",
              "      <td>donkey_thun</td>\n",
              "      <td>https://gbfs.prod.sharedmobility.ch/v2/gbfs/do...</td>\n",
              "    </tr>\n",
              "    <tr>\n",
              "      <th>1</th>\n",
              "      <td>edrivecarsharing</td>\n",
              "      <td>https://gbfs.prod.sharedmobility.ch/v2/gbfs/ed...</td>\n",
              "    </tr>\n",
              "  </tbody>\n",
              "</table>\n",
              "</div>\n",
              "      <button class=\"colab-df-convert\" onclick=\"convertToInteractive('df-222a22d3-fbbb-4f64-b527-5082ecf1a12f')\"\n",
              "              title=\"Convert this dataframe to an interactive table.\"\n",
              "              style=\"display:none;\">\n",
              "\n",
              "  <svg xmlns=\"http://www.w3.org/2000/svg\" height=\"24px\"viewBox=\"0 0 24 24\"\n",
              "       width=\"24px\">\n",
              "    <path d=\"M0 0h24v24H0V0z\" fill=\"none\"/>\n",
              "    <path d=\"M18.56 5.44l.94 2.06.94-2.06 2.06-.94-2.06-.94-.94-2.06-.94 2.06-2.06.94zm-11 1L8.5 8.5l.94-2.06 2.06-.94-2.06-.94L8.5 2.5l-.94 2.06-2.06.94zm10 10l.94 2.06.94-2.06 2.06-.94-2.06-.94-.94-2.06-.94 2.06-2.06.94z\"/><path d=\"M17.41 7.96l-1.37-1.37c-.4-.4-.92-.59-1.43-.59-.52 0-1.04.2-1.43.59L10.3 9.45l-7.72 7.72c-.78.78-.78 2.05 0 2.83L4 21.41c.39.39.9.59 1.41.59.51 0 1.02-.2 1.41-.59l7.78-7.78 2.81-2.81c.8-.78.8-2.07 0-2.86zM5.41 20L4 18.59l7.72-7.72 1.47 1.35L5.41 20z\"/>\n",
              "  </svg>\n",
              "      </button>\n",
              "\n",
              "\n",
              "\n",
              "    <div id=\"df-4f5dee68-02fb-4022-b9f6-53e722824706\">\n",
              "      <button class=\"colab-df-quickchart\" onclick=\"quickchart('df-4f5dee68-02fb-4022-b9f6-53e722824706')\"\n",
              "              title=\"Suggest charts.\"\n",
              "              style=\"display:none;\">\n",
              "\n",
              "<svg xmlns=\"http://www.w3.org/2000/svg\" height=\"24px\"viewBox=\"0 0 24 24\"\n",
              "     width=\"24px\">\n",
              "    <g>\n",
              "        <path d=\"M19 3H5c-1.1 0-2 .9-2 2v14c0 1.1.9 2 2 2h14c1.1 0 2-.9 2-2V5c0-1.1-.9-2-2-2zM9 17H7v-7h2v7zm4 0h-2V7h2v10zm4 0h-2v-4h2v4z\"/>\n",
              "    </g>\n",
              "</svg>\n",
              "      </button>\n",
              "    </div>\n",
              "\n",
              "<style>\n",
              "  .colab-df-quickchart {\n",
              "    background-color: #E8F0FE;\n",
              "    border: none;\n",
              "    border-radius: 50%;\n",
              "    cursor: pointer;\n",
              "    display: none;\n",
              "    fill: #1967D2;\n",
              "    height: 32px;\n",
              "    padding: 0 0 0 0;\n",
              "    width: 32px;\n",
              "  }\n",
              "\n",
              "  .colab-df-quickchart:hover {\n",
              "    background-color: #E2EBFA;\n",
              "    box-shadow: 0px 1px 2px rgba(60, 64, 67, 0.3), 0px 1px 3px 1px rgba(60, 64, 67, 0.15);\n",
              "    fill: #174EA6;\n",
              "  }\n",
              "\n",
              "  [theme=dark] .colab-df-quickchart {\n",
              "    background-color: #3B4455;\n",
              "    fill: #D2E3FC;\n",
              "  }\n",
              "\n",
              "  [theme=dark] .colab-df-quickchart:hover {\n",
              "    background-color: #434B5C;\n",
              "    box-shadow: 0px 1px 3px 1px rgba(0, 0, 0, 0.15);\n",
              "    filter: drop-shadow(0px 1px 2px rgba(0, 0, 0, 0.3));\n",
              "    fill: #FFFFFF;\n",
              "  }\n",
              "</style>\n",
              "\n",
              "    <script>\n",
              "      async function quickchart(key) {\n",
              "        const containerElement = document.querySelector('#' + key);\n",
              "        const charts = await google.colab.kernel.invokeFunction(\n",
              "            'suggestCharts', [key], {});\n",
              "      }\n",
              "    </script>\n",
              "\n",
              "      <script>\n",
              "\n",
              "function displayQuickchartButton(domScope) {\n",
              "  let quickchartButtonEl =\n",
              "    domScope.querySelector('#df-4f5dee68-02fb-4022-b9f6-53e722824706 button.colab-df-quickchart');\n",
              "  quickchartButtonEl.style.display =\n",
              "    google.colab.kernel.accessAllowed ? 'block' : 'none';\n",
              "}\n",
              "\n",
              "        displayQuickchartButton(document);\n",
              "      </script>\n",
              "      <style>\n",
              "    .colab-df-container {\n",
              "      display:flex;\n",
              "      flex-wrap:wrap;\n",
              "      gap: 12px;\n",
              "    }\n",
              "\n",
              "    .colab-df-convert {\n",
              "      background-color: #E8F0FE;\n",
              "      border: none;\n",
              "      border-radius: 50%;\n",
              "      cursor: pointer;\n",
              "      display: none;\n",
              "      fill: #1967D2;\n",
              "      height: 32px;\n",
              "      padding: 0 0 0 0;\n",
              "      width: 32px;\n",
              "    }\n",
              "\n",
              "    .colab-df-convert:hover {\n",
              "      background-color: #E2EBFA;\n",
              "      box-shadow: 0px 1px 2px rgba(60, 64, 67, 0.3), 0px 1px 3px 1px rgba(60, 64, 67, 0.15);\n",
              "      fill: #174EA6;\n",
              "    }\n",
              "\n",
              "    [theme=dark] .colab-df-convert {\n",
              "      background-color: #3B4455;\n",
              "      fill: #D2E3FC;\n",
              "    }\n",
              "\n",
              "    [theme=dark] .colab-df-convert:hover {\n",
              "      background-color: #434B5C;\n",
              "      box-shadow: 0px 1px 3px 1px rgba(0, 0, 0, 0.15);\n",
              "      filter: drop-shadow(0px 1px 2px rgba(0, 0, 0, 0.3));\n",
              "      fill: #FFFFFF;\n",
              "    }\n",
              "  </style>\n",
              "\n",
              "      <script>\n",
              "        const buttonEl =\n",
              "          document.querySelector('#df-222a22d3-fbbb-4f64-b527-5082ecf1a12f button.colab-df-convert');\n",
              "        buttonEl.style.display =\n",
              "          google.colab.kernel.accessAllowed ? 'block' : 'none';\n",
              "\n",
              "        async function convertToInteractive(key) {\n",
              "          const element = document.querySelector('#df-222a22d3-fbbb-4f64-b527-5082ecf1a12f');\n",
              "          const dataTable =\n",
              "            await google.colab.kernel.invokeFunction('convertToInteractive',\n",
              "                                                     [key], {});\n",
              "          if (!dataTable) return;\n",
              "\n",
              "          const docLinkHtml = 'Like what you see? Visit the ' +\n",
              "            '<a target=\"_blank\" href=https://colab.research.google.com/notebooks/data_table.ipynb>data table notebook</a>'\n",
              "            + ' to learn more about interactive tables.';\n",
              "          element.innerHTML = '';\n",
              "          dataTable['output_type'] = 'display_data';\n",
              "          await google.colab.output.renderOutput(dataTable, element);\n",
              "          const docLink = document.createElement('div');\n",
              "          docLink.innerHTML = docLinkHtml;\n",
              "          element.appendChild(docLink);\n",
              "        }\n",
              "      </script>\n",
              "    </div>\n",
              "  </div>\n"
            ]
          },
          "metadata": {},
          "execution_count": 86
        }
      ]
    },
    {
      "cell_type": "code",
      "source": [
        "for provider in providers:\n",
        "  print(provider)"
      ],
      "metadata": {
        "id": "4phoZddXRQ_E",
        "outputId": "b8a83c7b-2827-4fc6-95d3-44d85fd9523c",
        "colab": {
          "base_uri": "https://localhost:8080/"
        }
      },
      "id": "4phoZddXRQ_E",
      "execution_count": 89,
      "outputs": [
        {
          "output_type": "stream",
          "name": "stdout",
          "text": [
            "donkey_thun\n",
            "edrivecarsharing\n"
          ]
        }
      ]
    },
    {
      "cell_type": "code",
      "source": [],
      "metadata": {
        "id": "Yavl6FXcXqYc"
      },
      "id": "Yavl6FXcXqYc",
      "execution_count": null,
      "outputs": []
    },
    {
      "cell_type": "code",
      "source": [],
      "metadata": {
        "id": "Y8cwczW3X0p7"
      },
      "id": "Y8cwczW3X0p7",
      "execution_count": null,
      "outputs": []
    },
    {
      "cell_type": "code",
      "source": [],
      "metadata": {
        "id": "woFHFcL0X08L"
      },
      "id": "woFHFcL0X08L",
      "execution_count": null,
      "outputs": []
    }
  ],
  "metadata": {
    "kernelspec": {
      "display_name": "Python 3",
      "language": "python",
      "name": "python3"
    },
    "language_info": {
      "codemirror_mode": {
        "name": "ipython",
        "version": 3
      },
      "file_extension": ".py",
      "mimetype": "text/x-python",
      "name": "python",
      "nbconvert_exporter": "python",
      "pygments_lexer": "ipython3",
      "version": "3.8.7"
    },
    "colab": {
      "provenance": [],
      "include_colab_link": true
    }
  },
  "nbformat": 4,
  "nbformat_minor": 5
}